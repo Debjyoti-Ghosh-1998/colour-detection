{
 "cells": [
  {
   "cell_type": "code",
   "execution_count": 1,
   "metadata": {},
   "outputs": [],
   "source": [
    "import numpy as np\n",
    "import tensorflow as tf\n",
    "from tensorflow import keras\n",
    "from tensorflow.keras.models import Sequential,Model\n",
    "from keras.layers import BatchNormalization, Lambda, Input, Dense, Convolution2D, MaxPooling2D, AveragePooling2D, ZeroPadding2D, Dropout, Flatten, merge, Reshape, Activation\n",
    "from tensorflow.keras.optimizers import Adam\n",
    "from tensorflow.keras.metrics import categorical_crossentropy\n",
    "from keras.layers.merge import Concatenate\n",
    "from tensorflow.keras.preprocessing.image import ImageDataGenerator\n",
    "from tensorflow.keras.preprocessing import image\n",
    "from keras.optimizers import SGD\n",
    "from sklearn.metrics import confusion_matrix\n",
    "import itertools\n",
    "import os\n",
    "import shutil\n",
    "import random\n",
    "import glob\n",
    "import matplotlib.pyplot as plt\n",
    "import warnings\n",
    "warnings.simplefilter(action = 'ignore', category= FutureWarning)\n",
    "%matplotlib inline\n"
   ]
  },
  {
   "cell_type": "code",
   "execution_count": null,
   "metadata": {},
   "outputs": [],
   "source": []
  },
  {
   "cell_type": "code",
   "execution_count": 2,
   "metadata": {},
   "outputs": [],
   "source": [
    "def mycolournet(num_classes):\n",
    "    input_image = Input(shape=(56,56,3))\n",
    "    layer1 = MaxPooling2D(pool_size=(1,1),strides=(1,1),input_shape=(56,56,3))(input_image)\n",
    "    \n",
    "    blueinput =  Lambda(lambda x : x[:,:,:,0:1])(layer1)\n",
    "    greeninput =  Lambda(lambda x : x[:,:,:,1:2])(layer1)\n",
    "    redinput =  Lambda(lambda x : x[:,:,:,:2])(layer1)\n",
    "    \n",
    "    ##blueinput= torch.Tensor(blueinput)\n",
    "    ##redinput= torch.Tensor(redinput)\n",
    "    ##greeninput= torch.Tensor(greeninput)\n",
    "    \n",
    "    ##blueinput=blueinput.unsqueeze(dim=-1)\n",
    "    ##greeninput=greeninput.unsqueeze(dim=-1)\n",
    "    ##redinput= redinput.unsqueeze(dim=-1)\n",
    "    \n",
    "    ##blueinput=np.array(blueinput)\n",
    "    ##greeninput=np.array(greeninput)\n",
    "    ##redinput=np.array(redinput)\n",
    "    \n",
    "    blueconv1 = Convolution2D(filters=32,kernel_size=(3,3),strides=(1,1),activation='relu',padding='same')(blueinput)\n",
    "    blueconv1 = BatchNormalization()(blueconv1)\n",
    "    blueconv1 = MaxPooling2D(pool_size=(3,3),strides=(2,2))(blueconv1)\n",
    "    \n",
    "    greenconv1 = Convolution2D(filters=32,kernel_size=(3,3),strides=(1,1),activation='relu',padding='same')(greeninput)\n",
    "    greenconv1 = BatchNormalization()(greenconv1)\n",
    "    greenconv1 = MaxPooling2D(pool_size=(3,3),strides=(2,2))(greenconv1)\n",
    "    \n",
    "    redconv1 = Convolution2D(filters=32,kernel_size=(3,3),strides=(1,1),activation='relu',padding='same')(redinput)\n",
    "    redconv1 = BatchNormalization()(redconv1)\n",
    "    redconv1 = MaxPooling2D(pool_size=(3,3),strides=(2,2))(redconv1)\n",
    "    \n",
    "    blueconv2 = Convolution2D(filters=64,kernel_size=(3,3),strides=(1,1),activation='relu',padding='same')(blueconv1)\n",
    "    blueconv2 = BatchNormalization()(blueconv2)\n",
    "    blueconv2 = MaxPooling2D(pool_size=(3,3),strides=(2,2))(blueconv2)\n",
    "    \n",
    "    greenconv2 = Convolution2D(filters=64,kernel_size=(3,3),strides=(1,1),activation='relu',padding='same')(greenconv1)\n",
    "    greenconv2 = BatchNormalization()(greenconv2)\n",
    "    greenconv2 = MaxPooling2D(pool_size=(3,3),strides=(2,2))(greenconv2)\n",
    "    \n",
    "    redconv2 = Convolution2D(filters=64,kernel_size=(3,3),strides=(1,1),activation='relu',padding='same')(redconv1)\n",
    "    redconv2 = BatchNormalization()(redconv2)\n",
    "    redconv2 = MaxPooling2D(pool_size=(3,3),strides=(2,2))(redconv2)\n",
    "    \n",
    "    blueflatten = Flatten()(blueconv2)\n",
    "    greenflatten = Flatten()(greenconv2)\n",
    "    redflatten = Flatten()(redconv2)\n",
    "    \n",
    "    blueFC_1 = Dense(units=1000, activation='relu')(blueflatten)\n",
    "    blueFC_1 = Dropout(0.6)(blueFC_1)\n",
    "    blueFC_2 = Dense(units=1, activation='relu')(blueFC_1)\n",
    "    \n",
    "    greenFC_1 = Dense(units=1000, activation='relu')(greenflatten)\n",
    "    greenFC_1 = Dropout(0.6)(greenFC_1)\n",
    "    greenFC_2 = Dense(units=1, activation='relu')(greenFC_1)\n",
    "    \n",
    "    redFC_1 = Dense(units=1000, activation='relu')(redflatten)\n",
    "    redFC_1 = Dropout(0.6)(redFC_1)\n",
    "    redFC_2 = Dense(units=1, activation='relu')(redFC_1)\n",
    "    \n",
    "    concatoutput = Concatenate()([blueFC_2, greenFC_2,redFC_2])\n",
    "    \n",
    "    commonFC_1 = Dense(units=20, activation='relu'  )(concatoutput)\n",
    "    commonFC_2 = Dense(units=50, activation = 'relu')(commonFC_1)\n",
    "    commonFC_3 = Dense(units=30, activation= 'relu')(commonFC_2)\n",
    "    output = Dense(units=num_classes,activation='softmax' )(commonFC_3)\n",
    "    \n",
    "    model = Model(inputs=input_image,outputs=output)\n",
    "    sgd = SGD(lr=1e-3, decay=1e-6, momentum=0.9, nesterov=True)\n",
    "    # sgd = SGD(lr=0.01, momentum=0.9, decay=0.0005, nesterov=True)\n",
    "    model.compile(optimizer=sgd, loss='categorical_crossentropy', metrics=['accuracy'])\n",
    "    \n",
    "    return model\n",
    "\n",
    "\n"
   ]
  },
  {
   "cell_type": "markdown",
   "metadata": {},
   "source": []
  },
  {
   "cell_type": "code",
   "execution_count": null,
   "metadata": {},
   "outputs": [],
   "source": []
  },
  {
   "cell_type": "code",
   "execution_count": null,
   "metadata": {},
   "outputs": [],
   "source": []
  },
  {
   "cell_type": "code",
   "execution_count": null,
   "metadata": {},
   "outputs": [],
   "source": []
  },
  {
   "cell_type": "code",
   "execution_count": null,
   "metadata": {},
   "outputs": [],
   "source": []
  },
  {
   "cell_type": "code",
   "execution_count": 5,
   "metadata": {},
   "outputs": [],
   "source": [
    "model = mycolournet(3) #for two classes, i.e blue and red"
   ]
  },
  {
   "cell_type": "code",
   "execution_count": 6,
   "metadata": {},
   "outputs": [
    {
     "data": {
      "image/png": "[encoded data removed]",
      "text/plain": [
       "<PIL.Image.Image image mode=RGBA size=2871x299 at 0x22DF1663388>"
      ]
     },
     "execution_count": 6,
     "metadata": {},
     "output_type": "execute_result"
    }
   ],
   "source": [
    "import visualkeras\n",
    "\n",
    "\n",
    "\n",
    "visualkeras.layered_view(model).show() # display using your system viewer\n",
    "visualkeras.layered_view(model, to_file='output.png') # write to disk\n",
    "visualkeras.layered_view(model, to_file='output.png').show() # write and show\n",
    "\n",
    "visualkeras.layered_view(model)"
   ]
  },
  {
   "cell_type": "code",
   "execution_count": 4,
   "metadata": {},
   "outputs": [
    {
     "name": "stdout",
     "output_type": "stream",
     "text": [
      "Model: \"model\"\n",
      "__________________________________________________________________________________________________\n",
      "Layer (type)                    Output Shape         Param #     Connected to                     \n",
      "==================================================================================================\n",
      "input_1 (InputLayer)            [(None, 56, 56, 3)]  0                                            \n",
      "__________________________________________________________________________________________________\n",
      "max_pooling2d (MaxPooling2D)    (None, 56, 56, 3)    0           input_1[0][0]                    \n",
      "__________________________________________________________________________________________________\n",
      "lambda (Lambda)                 (None, 56, 56, 1)    0           max_pooling2d[0][0]              \n",
      "__________________________________________________________________________________________________\n",
      "lambda_1 (Lambda)               (None, 56, 56, 1)    0           max_pooling2d[0][0]              \n",
      "__________________________________________________________________________________________________\n",
      "lambda_2 (Lambda)               (None, 56, 56, 2)    0           max_pooling2d[0][0]              \n",
      "__________________________________________________________________________________________________\n",
      "conv2d (Conv2D)                 (None, 56, 56, 32)   320         lambda[0][0]                     \n",
      "__________________________________________________________________________________________________\n",
      "conv2d_1 (Conv2D)               (None, 56, 56, 32)   320         lambda_1[0][0]                   \n",
      "__________________________________________________________________________________________________\n",
      "conv2d_2 (Conv2D)               (None, 56, 56, 32)   608         lambda_2[0][0]                   \n",
      "__________________________________________________________________________________________________\n",
      "batch_normalization (BatchNorma (None, 56, 56, 32)   128         conv2d[0][0]                     \n",
      "__________________________________________________________________________________________________\n",
      "batch_normalization_1 (BatchNor (None, 56, 56, 32)   128         conv2d_1[0][0]                   \n",
      "__________________________________________________________________________________________________\n",
      "batch_normalization_2 (BatchNor (None, 56, 56, 32)   128         conv2d_2[0][0]                   \n",
      "__________________________________________________________________________________________________\n",
      "max_pooling2d_1 (MaxPooling2D)  (None, 27, 27, 32)   0           batch_normalization[0][0]        \n",
      "__________________________________________________________________________________________________\n",
      "max_pooling2d_2 (MaxPooling2D)  (None, 27, 27, 32)   0           batch_normalization_1[0][0]      \n",
      "__________________________________________________________________________________________________\n",
      "max_pooling2d_3 (MaxPooling2D)  (None, 27, 27, 32)   0           batch_normalization_2[0][0]      \n",
      "__________________________________________________________________________________________________\n",
      "conv2d_3 (Conv2D)               (None, 27, 27, 64)   18496       max_pooling2d_1[0][0]            \n",
      "__________________________________________________________________________________________________\n",
      "conv2d_4 (Conv2D)               (None, 27, 27, 64)   18496       max_pooling2d_2[0][0]            \n",
      "__________________________________________________________________________________________________\n",
      "conv2d_5 (Conv2D)               (None, 27, 27, 64)   18496       max_pooling2d_3[0][0]            \n",
      "__________________________________________________________________________________________________\n",
      "batch_normalization_3 (BatchNor (None, 27, 27, 64)   256         conv2d_3[0][0]                   \n",
      "__________________________________________________________________________________________________\n",
      "batch_normalization_4 (BatchNor (None, 27, 27, 64)   256         conv2d_4[0][0]                   \n",
      "__________________________________________________________________________________________________\n",
      "batch_normalization_5 (BatchNor (None, 27, 27, 64)   256         conv2d_5[0][0]                   \n",
      "__________________________________________________________________________________________________\n",
      "max_pooling2d_4 (MaxPooling2D)  (None, 13, 13, 64)   0           batch_normalization_3[0][0]      \n",
      "__________________________________________________________________________________________________\n",
      "max_pooling2d_5 (MaxPooling2D)  (None, 13, 13, 64)   0           batch_normalization_4[0][0]      \n",
      "__________________________________________________________________________________________________\n",
      "max_pooling2d_6 (MaxPooling2D)  (None, 13, 13, 64)   0           batch_normalization_5[0][0]      \n",
      "__________________________________________________________________________________________________\n",
      "flatten (Flatten)               (None, 10816)        0           max_pooling2d_4[0][0]            \n",
      "__________________________________________________________________________________________________\n",
      "flatten_1 (Flatten)             (None, 10816)        0           max_pooling2d_5[0][0]            \n",
      "__________________________________________________________________________________________________\n",
      "flatten_2 (Flatten)             (None, 10816)        0           max_pooling2d_6[0][0]            \n",
      "__________________________________________________________________________________________________\n",
      "dense (Dense)                   (None, 1000)         10817000    flatten[0][0]                    \n",
      "__________________________________________________________________________________________________\n",
      "dense_2 (Dense)                 (None, 1000)         10817000    flatten_1[0][0]                  \n",
      "__________________________________________________________________________________________________\n",
      "dense_4 (Dense)                 (None, 1000)         10817000    flatten_2[0][0]                  \n",
      "__________________________________________________________________________________________________\n",
      "dropout (Dropout)               (None, 1000)         0           dense[0][0]                      \n",
      "__________________________________________________________________________________________________\n",
      "dropout_1 (Dropout)             (None, 1000)         0           dense_2[0][0]                    \n",
      "__________________________________________________________________________________________________\n",
      "dropout_2 (Dropout)             (None, 1000)         0           dense_4[0][0]                    \n",
      "__________________________________________________________________________________________________\n",
      "dense_1 (Dense)                 (None, 1)            1001        dropout[0][0]                    \n",
      "__________________________________________________________________________________________________\n",
      "dense_3 (Dense)                 (None, 1)            1001        dropout_1[0][0]                  \n",
      "__________________________________________________________________________________________________\n",
      "dense_5 (Dense)                 (None, 1)            1001        dropout_2[0][0]                  \n",
      "__________________________________________________________________________________________________\n",
      "concatenate (Concatenate)       (None, 3)            0           dense_1[0][0]                    \n",
      "                                                                 dense_3[0][0]                    \n",
      "                                                                 dense_5[0][0]                    \n",
      "__________________________________________________________________________________________________\n",
      "dense_6 (Dense)                 (None, 20)           80          concatenate[0][0]                \n",
      "__________________________________________________________________________________________________\n",
      "dense_7 (Dense)                 (None, 50)           1050        dense_6[0][0]                    \n",
      "__________________________________________________________________________________________________\n",
      "dense_8 (Dense)                 (None, 30)           1530        dense_7[0][0]                    \n",
      "__________________________________________________________________________________________________\n",
      "dense_9 (Dense)                 (None, 3)            93          dense_8[0][0]                    \n",
      "==================================================================================================\n",
      "Total params: 32,514,644\n",
      "Trainable params: 32,514,068\n",
      "Non-trainable params: 576\n",
      "__________________________________________________________________________________________________\n"
     ]
    }
   ],
   "source": [
    "model.summary()\n"
   ]
  },
  {
   "cell_type": "code",
   "execution_count": 5,
   "metadata": {},
   "outputs": [],
   "source": [
    "os.chdir('data/colors')\n",
    "if os.path.isdir('train/blue') is False:\n",
    "    os.makedirs('train/blue')\n",
    "    os.makedirs('train/red')\n",
    "    os.makedirs('test/blue')\n",
    "    os.makedirs('test/red')\n",
    "    os.makedirs('valid/blue')\n",
    "    os.makedirs('valid/red')\n",
    "    \n",
    "os.chdir('../../')  "
   ]
  },
  {
   "cell_type": "code",
   "execution_count": null,
   "metadata": {},
   "outputs": [],
   "source": [
    "train_path = 'data/colors/train'\n",
    "valid_path = 'data/colors/valid'\n",
    "test_path = 'data/colors/test'\n",
    "\n",
    "\n",
    "\n"
   ]
  },
  {
   "cell_type": "code",
   "execution_count": 10,
   "metadata": {},
   "outputs": [
    {
     "name": "stdout",
     "output_type": "stream",
     "text": [
      "Found 646 images belonging to 4 classes.\n",
      "Found 41 images belonging to 4 classes.\n",
      "Found 0 images belonging to 4 classes.\n"
     ]
    }
   ],
   "source": [
    "\n",
    "train_batches = ImageDataGenerator(preprocessing_function=tf.keras.applications.vgg16.preprocess_input) \\\n",
    "    .flow_from_directory(directory=train_path, target_size=(56,56), classes=['orange', 'red', 'yellow', 'brown'], batch_size=10)\n",
    "valid_batches = ImageDataGenerator(preprocessing_function=tf.keras.applications.vgg16.preprocess_input) \\\n",
    "    .flow_from_directory(directory=valid_path, target_size=(56,56), classes=['orange', 'red','yellow', 'brown'], batch_size=10)\n",
    "test_batches = ImageDataGenerator(preprocessing_function=tf.keras.applications.vgg16.preprocess_input) \\\n",
    "    .flow_from_directory(directory=test_path, target_size=(56,56), classes=['orange', 'red','yellow','brown'], batch_size=10, shuffle=False)"
   ]
  },
  {
   "cell_type": "code",
   "execution_count": 11,
   "metadata": {},
   "outputs": [
    {
     "name": "stdout",
     "output_type": "stream",
     "text": [
      "Epoch 1/100\n"
     ]
    },
    {
     "name": "stderr",
     "output_type": "stream",
     "text": [
      "C:\\Users\\Debjyoty\\anaconda3\\lib\\site-packages\\PIL\\Image.py:932: UserWarning: Palette images with Transparency expressed in bytes should be converted to RGBA images\n",
      "  \"Palette images with Transparency expressed in bytes should be \"\n"
     ]
    },
    {
     "name": "stdout",
     "output_type": "stream",
     "text": [
      "65/65 - 23s - loss: 1.3530 - accuracy: 0.3638 - val_loss: 1.2797 - val_accuracy: 0.3902\n",
      "Epoch 2/100\n",
      "65/65 - 20s - loss: 1.0630 - accuracy: 0.5341 - val_loss: 0.9953 - val_accuracy: 0.5122\n",
      "Epoch 3/100\n",
      "65/65 - 20s - loss: 0.8827 - accuracy: 0.6161 - val_loss: 1.1650 - val_accuracy: 0.4390\n",
      "Epoch 4/100\n",
      "65/65 - 21s - loss: 0.7608 - accuracy: 0.6687 - val_loss: 0.7866 - val_accuracy: 0.6341\n",
      "Epoch 5/100\n",
      "65/65 - 20s - loss: 0.6211 - accuracy: 0.7585 - val_loss: 0.8630 - val_accuracy: 0.6098\n",
      "Epoch 6/100\n",
      "65/65 - 21s - loss: 0.5738 - accuracy: 0.7492 - val_loss: 0.7909 - val_accuracy: 0.7317\n",
      "Epoch 7/100\n",
      "65/65 - 21s - loss: 0.5693 - accuracy: 0.7693 - val_loss: 0.8725 - val_accuracy: 0.6098\n",
      "Epoch 8/100\n",
      "65/65 - 21s - loss: 0.5593 - accuracy: 0.7647 - val_loss: 0.6602 - val_accuracy: 0.7073\n",
      "Epoch 9/100\n",
      "65/65 - 21s - loss: 0.4637 - accuracy: 0.8080 - val_loss: 0.8490 - val_accuracy: 0.6829\n",
      "Epoch 10/100\n",
      "65/65 - 21s - loss: 0.4490 - accuracy: 0.8080 - val_loss: 0.9512 - val_accuracy: 0.6098\n",
      "Epoch 11/100\n",
      "65/65 - 20s - loss: 0.3414 - accuracy: 0.8762 - val_loss: 0.8683 - val_accuracy: 0.6829\n",
      "Epoch 12/100\n",
      "65/65 - 21s - loss: 0.4088 - accuracy: 0.8344 - val_loss: 1.1242 - val_accuracy: 0.6098\n",
      "Epoch 13/100\n",
      "65/65 - 21s - loss: 0.4005 - accuracy: 0.8560 - val_loss: 0.8627 - val_accuracy: 0.6829\n",
      "Epoch 14/100\n",
      "65/65 - 20s - loss: 0.3154 - accuracy: 0.8824 - val_loss: 0.6733 - val_accuracy: 0.7317\n",
      "Epoch 15/100\n",
      "65/65 - 20s - loss: 0.2831 - accuracy: 0.8916 - val_loss: 0.8447 - val_accuracy: 0.5610\n",
      "Epoch 16/100\n",
      "65/65 - 21s - loss: 0.3093 - accuracy: 0.8793 - val_loss: 1.3600 - val_accuracy: 0.5122\n",
      "Epoch 17/100\n",
      "65/65 - 20s - loss: 0.2322 - accuracy: 0.9180 - val_loss: 1.0694 - val_accuracy: 0.6341\n",
      "Epoch 18/100\n",
      "65/65 - 20s - loss: 0.2375 - accuracy: 0.8994 - val_loss: 1.0771 - val_accuracy: 0.6098\n",
      "Epoch 19/100\n",
      "65/65 - 20s - loss: 0.2627 - accuracy: 0.9025 - val_loss: 1.0219 - val_accuracy: 0.6585\n",
      "Epoch 20/100\n",
      "65/65 - 20s - loss: 0.3105 - accuracy: 0.8824 - val_loss: 0.9932 - val_accuracy: 0.6098\n",
      "Epoch 21/100\n",
      "65/65 - 20s - loss: 0.2265 - accuracy: 0.9241 - val_loss: 0.8639 - val_accuracy: 0.5610\n",
      "Epoch 22/100\n",
      "65/65 - 21s - loss: 0.2382 - accuracy: 0.9149 - val_loss: 1.2034 - val_accuracy: 0.6098\n",
      "Epoch 23/100\n",
      "65/65 - 20s - loss: 0.2119 - accuracy: 0.9241 - val_loss: 0.9373 - val_accuracy: 0.5854\n",
      "Epoch 24/100\n",
      "65/65 - 21s - loss: 0.1996 - accuracy: 0.9303 - val_loss: 0.9987 - val_accuracy: 0.7317\n",
      "Epoch 25/100\n",
      "65/65 - 20s - loss: 0.1931 - accuracy: 0.9257 - val_loss: 1.3520 - val_accuracy: 0.6341\n",
      "Epoch 26/100\n",
      "65/65 - 20s - loss: 0.1791 - accuracy: 0.9272 - val_loss: 1.7073 - val_accuracy: 0.5854\n",
      "Epoch 27/100\n",
      "65/65 - 21s - loss: 0.1456 - accuracy: 0.9381 - val_loss: 1.3864 - val_accuracy: 0.5854\n",
      "Epoch 28/100\n",
      "65/65 - 21s - loss: 0.1854 - accuracy: 0.9257 - val_loss: 1.5126 - val_accuracy: 0.6341\n",
      "Epoch 29/100\n",
      "65/65 - 21s - loss: 0.1995 - accuracy: 0.9272 - val_loss: 0.9682 - val_accuracy: 0.6585\n",
      "Epoch 30/100\n",
      "65/65 - 21s - loss: 0.1774 - accuracy: 0.9365 - val_loss: 1.0634 - val_accuracy: 0.6829\n",
      "Epoch 31/100\n",
      "65/65 - 20s - loss: 0.1082 - accuracy: 0.9706 - val_loss: 1.1306 - val_accuracy: 0.6098\n",
      "Epoch 32/100\n",
      "65/65 - 21s - loss: 0.1051 - accuracy: 0.9567 - val_loss: 1.2747 - val_accuracy: 0.6341\n",
      "Epoch 33/100\n",
      "65/65 - 21s - loss: 0.1336 - accuracy: 0.9551 - val_loss: 1.4918 - val_accuracy: 0.6098\n",
      "Epoch 34/100\n",
      "65/65 - 21s - loss: 0.1482 - accuracy: 0.9443 - val_loss: 1.1986 - val_accuracy: 0.6585\n",
      "Epoch 35/100\n",
      "65/65 - 23s - loss: 0.2142 - accuracy: 0.9180 - val_loss: 1.4399 - val_accuracy: 0.5854\n",
      "Epoch 36/100\n",
      "65/65 - 20s - loss: 0.1366 - accuracy: 0.9567 - val_loss: 0.8934 - val_accuracy: 0.6585\n",
      "Epoch 37/100\n",
      "65/65 - 20s - loss: 0.1206 - accuracy: 0.9567 - val_loss: 1.2926 - val_accuracy: 0.6585\n",
      "Epoch 38/100\n",
      "65/65 - 21s - loss: 0.0930 - accuracy: 0.9675 - val_loss: 1.0803 - val_accuracy: 0.6341\n",
      "Epoch 39/100\n",
      "65/65 - 20s - loss: 0.1187 - accuracy: 0.9505 - val_loss: 1.1083 - val_accuracy: 0.6585\n",
      "Epoch 40/100\n",
      "65/65 - 20s - loss: 0.0593 - accuracy: 0.9783 - val_loss: 1.3937 - val_accuracy: 0.6829\n",
      "Epoch 41/100\n",
      "65/65 - 21s - loss: 0.0959 - accuracy: 0.9628 - val_loss: 1.3955 - val_accuracy: 0.5854\n",
      "Epoch 42/100\n",
      "65/65 - 21s - loss: 0.0596 - accuracy: 0.9768 - val_loss: 1.3340 - val_accuracy: 0.6098\n",
      "Epoch 43/100\n",
      "65/65 - 21s - loss: 0.0735 - accuracy: 0.9830 - val_loss: 1.7634 - val_accuracy: 0.5122\n",
      "Epoch 44/100\n",
      "65/65 - 21s - loss: 0.1013 - accuracy: 0.9628 - val_loss: 1.5115 - val_accuracy: 0.6341\n",
      "Epoch 45/100\n",
      "65/65 - 21s - loss: 0.1017 - accuracy: 0.9752 - val_loss: 1.1125 - val_accuracy: 0.6585\n",
      "Epoch 46/100\n",
      "65/65 - 20s - loss: 0.0955 - accuracy: 0.9644 - val_loss: 1.3229 - val_accuracy: 0.5366\n",
      "Epoch 47/100\n",
      "65/65 - 20s - loss: 0.0617 - accuracy: 0.9814 - val_loss: 1.3636 - val_accuracy: 0.6829\n",
      "Epoch 48/100\n",
      "65/65 - 20s - loss: 0.0809 - accuracy: 0.9690 - val_loss: 1.2778 - val_accuracy: 0.6829\n",
      "Epoch 49/100\n",
      "65/65 - 20s - loss: 0.0717 - accuracy: 0.9783 - val_loss: 1.5444 - val_accuracy: 0.6341\n",
      "Epoch 50/100\n",
      "65/65 - 20s - loss: 0.0592 - accuracy: 0.9799 - val_loss: 1.4347 - val_accuracy: 0.6098\n",
      "Epoch 51/100\n",
      "65/65 - 21s - loss: 0.0991 - accuracy: 0.9659 - val_loss: 1.2211 - val_accuracy: 0.6585\n",
      "Epoch 52/100\n",
      "65/65 - 21s - loss: 0.0756 - accuracy: 0.9690 - val_loss: 1.6486 - val_accuracy: 0.6341\n",
      "Epoch 53/100\n",
      "65/65 - 23s - loss: 0.0447 - accuracy: 0.9845 - val_loss: 1.6499 - val_accuracy: 0.6098\n",
      "Epoch 54/100\n",
      "65/65 - 21s - loss: 0.1257 - accuracy: 0.9536 - val_loss: 1.9870 - val_accuracy: 0.5610\n",
      "Epoch 55/100\n",
      "65/65 - 20s - loss: 0.0753 - accuracy: 0.9783 - val_loss: 1.6577 - val_accuracy: 0.6098\n",
      "Epoch 56/100\n",
      "65/65 - 21s - loss: 0.0743 - accuracy: 0.9768 - val_loss: 1.0555 - val_accuracy: 0.6341\n",
      "Epoch 57/100\n",
      "65/65 - 20s - loss: 0.0633 - accuracy: 0.9721 - val_loss: 1.1797 - val_accuracy: 0.6341\n",
      "Epoch 58/100\n",
      "65/65 - 20s - loss: 0.0430 - accuracy: 0.9861 - val_loss: 1.4067 - val_accuracy: 0.7073\n",
      "Epoch 59/100\n"
     ]
    },
    {
     "ename": "KeyboardInterrupt",
     "evalue": "",
     "output_type": "error",
     "traceback": [
      "\u001b[1;31m---------------------------------------------------------------------------\u001b[0m",
      "\u001b[1;31mKeyboardInterrupt\u001b[0m                         Traceback (most recent call last)",
      "\u001b[1;32m<ipython-input-11-2cf6eb17a08f>\u001b[0m in \u001b[0;36m<module>\u001b[1;34m\u001b[0m\n\u001b[0;32m      4\u001b[0m     \u001b[0mvalidation_steps\u001b[0m\u001b[1;33m=\u001b[0m\u001b[0mlen\u001b[0m\u001b[1;33m(\u001b[0m\u001b[0mvalid_batches\u001b[0m\u001b[1;33m)\u001b[0m\u001b[1;33m,\u001b[0m\u001b[1;33m\u001b[0m\u001b[1;33m\u001b[0m\u001b[0m\n\u001b[0;32m      5\u001b[0m     \u001b[0mepochs\u001b[0m\u001b[1;33m=\u001b[0m\u001b[1;36m100\u001b[0m\u001b[1;33m,\u001b[0m\u001b[1;33m\u001b[0m\u001b[1;33m\u001b[0m\u001b[0m\n\u001b[1;32m----> 6\u001b[1;33m     \u001b[0mverbose\u001b[0m\u001b[1;33m=\u001b[0m\u001b[1;36m2\u001b[0m\u001b[1;33m\u001b[0m\u001b[1;33m\u001b[0m\u001b[0m\n\u001b[0m\u001b[0;32m      7\u001b[0m )\n",
      "\u001b[1;32mC:\\Users\\Debjyoty\\anaconda3\\lib\\site-packages\\tensorflow\\python\\keras\\engine\\training.py\u001b[0m in \u001b[0;36mfit\u001b[1;34m(self, x, y, batch_size, epochs, verbose, callbacks, validation_split, validation_data, shuffle, class_weight, sample_weight, initial_epoch, steps_per_epoch, validation_steps, validation_batch_size, validation_freq, max_queue_size, workers, use_multiprocessing)\u001b[0m\n\u001b[0;32m   1098\u001b[0m                 _r=1):\n\u001b[0;32m   1099\u001b[0m               \u001b[0mcallbacks\u001b[0m\u001b[1;33m.\u001b[0m\u001b[0mon_train_batch_begin\u001b[0m\u001b[1;33m(\u001b[0m\u001b[0mstep\u001b[0m\u001b[1;33m)\u001b[0m\u001b[1;33m\u001b[0m\u001b[1;33m\u001b[0m\u001b[0m\n\u001b[1;32m-> 1100\u001b[1;33m               \u001b[0mtmp_logs\u001b[0m \u001b[1;33m=\u001b[0m \u001b[0mself\u001b[0m\u001b[1;33m.\u001b[0m\u001b[0mtrain_function\u001b[0m\u001b[1;33m(\u001b[0m\u001b[0miterator\u001b[0m\u001b[1;33m)\u001b[0m\u001b[1;33m\u001b[0m\u001b[1;33m\u001b[0m\u001b[0m\n\u001b[0m\u001b[0;32m   1101\u001b[0m               \u001b[1;32mif\u001b[0m \u001b[0mdata_handler\u001b[0m\u001b[1;33m.\u001b[0m\u001b[0mshould_sync\u001b[0m\u001b[1;33m:\u001b[0m\u001b[1;33m\u001b[0m\u001b[1;33m\u001b[0m\u001b[0m\n\u001b[0;32m   1102\u001b[0m                 \u001b[0mcontext\u001b[0m\u001b[1;33m.\u001b[0m\u001b[0masync_wait\u001b[0m\u001b[1;33m(\u001b[0m\u001b[1;33m)\u001b[0m\u001b[1;33m\u001b[0m\u001b[1;33m\u001b[0m\u001b[0m\n",
      "\u001b[1;32mC:\\Users\\Debjyoty\\anaconda3\\lib\\site-packages\\tensorflow\\python\\eager\\def_function.py\u001b[0m in \u001b[0;36m__call__\u001b[1;34m(self, *args, **kwds)\u001b[0m\n\u001b[0;32m    826\u001b[0m     \u001b[0mtracing_count\u001b[0m \u001b[1;33m=\u001b[0m \u001b[0mself\u001b[0m\u001b[1;33m.\u001b[0m\u001b[0mexperimental_get_tracing_count\u001b[0m\u001b[1;33m(\u001b[0m\u001b[1;33m)\u001b[0m\u001b[1;33m\u001b[0m\u001b[1;33m\u001b[0m\u001b[0m\n\u001b[0;32m    827\u001b[0m     \u001b[1;32mwith\u001b[0m \u001b[0mtrace\u001b[0m\u001b[1;33m.\u001b[0m\u001b[0mTrace\u001b[0m\u001b[1;33m(\u001b[0m\u001b[0mself\u001b[0m\u001b[1;33m.\u001b[0m\u001b[0m_name\u001b[0m\u001b[1;33m)\u001b[0m \u001b[1;32mas\u001b[0m \u001b[0mtm\u001b[0m\u001b[1;33m:\u001b[0m\u001b[1;33m\u001b[0m\u001b[1;33m\u001b[0m\u001b[0m\n\u001b[1;32m--> 828\u001b[1;33m       \u001b[0mresult\u001b[0m \u001b[1;33m=\u001b[0m \u001b[0mself\u001b[0m\u001b[1;33m.\u001b[0m\u001b[0m_call\u001b[0m\u001b[1;33m(\u001b[0m\u001b[1;33m*\u001b[0m\u001b[0margs\u001b[0m\u001b[1;33m,\u001b[0m \u001b[1;33m**\u001b[0m\u001b[0mkwds\u001b[0m\u001b[1;33m)\u001b[0m\u001b[1;33m\u001b[0m\u001b[1;33m\u001b[0m\u001b[0m\n\u001b[0m\u001b[0;32m    829\u001b[0m       \u001b[0mcompiler\u001b[0m \u001b[1;33m=\u001b[0m \u001b[1;34m\"xla\"\u001b[0m \u001b[1;32mif\u001b[0m \u001b[0mself\u001b[0m\u001b[1;33m.\u001b[0m\u001b[0m_experimental_compile\u001b[0m \u001b[1;32melse\u001b[0m \u001b[1;34m\"nonXla\"\u001b[0m\u001b[1;33m\u001b[0m\u001b[1;33m\u001b[0m\u001b[0m\n\u001b[0;32m    830\u001b[0m       \u001b[0mnew_tracing_count\u001b[0m \u001b[1;33m=\u001b[0m \u001b[0mself\u001b[0m\u001b[1;33m.\u001b[0m\u001b[0mexperimental_get_tracing_count\u001b[0m\u001b[1;33m(\u001b[0m\u001b[1;33m)\u001b[0m\u001b[1;33m\u001b[0m\u001b[1;33m\u001b[0m\u001b[0m\n",
      "\u001b[1;32mC:\\Users\\Debjyoty\\anaconda3\\lib\\site-packages\\tensorflow\\python\\eager\\def_function.py\u001b[0m in \u001b[0;36m_call\u001b[1;34m(self, *args, **kwds)\u001b[0m\n\u001b[0;32m    853\u001b[0m       \u001b[1;31m# In this case we have created variables on the first call, so we run the\u001b[0m\u001b[1;33m\u001b[0m\u001b[1;33m\u001b[0m\u001b[1;33m\u001b[0m\u001b[0m\n\u001b[0;32m    854\u001b[0m       \u001b[1;31m# defunned version which is guaranteed to never create variables.\u001b[0m\u001b[1;33m\u001b[0m\u001b[1;33m\u001b[0m\u001b[1;33m\u001b[0m\u001b[0m\n\u001b[1;32m--> 855\u001b[1;33m       \u001b[1;32mreturn\u001b[0m \u001b[0mself\u001b[0m\u001b[1;33m.\u001b[0m\u001b[0m_stateless_fn\u001b[0m\u001b[1;33m(\u001b[0m\u001b[1;33m*\u001b[0m\u001b[0margs\u001b[0m\u001b[1;33m,\u001b[0m \u001b[1;33m**\u001b[0m\u001b[0mkwds\u001b[0m\u001b[1;33m)\u001b[0m  \u001b[1;31m# pylint: disable=not-callable\u001b[0m\u001b[1;33m\u001b[0m\u001b[1;33m\u001b[0m\u001b[0m\n\u001b[0m\u001b[0;32m    856\u001b[0m     \u001b[1;32melif\u001b[0m \u001b[0mself\u001b[0m\u001b[1;33m.\u001b[0m\u001b[0m_stateful_fn\u001b[0m \u001b[1;32mis\u001b[0m \u001b[1;32mnot\u001b[0m \u001b[1;32mNone\u001b[0m\u001b[1;33m:\u001b[0m\u001b[1;33m\u001b[0m\u001b[1;33m\u001b[0m\u001b[0m\n\u001b[0;32m    857\u001b[0m       \u001b[1;31m# Release the lock early so that multiple threads can perform the call\u001b[0m\u001b[1;33m\u001b[0m\u001b[1;33m\u001b[0m\u001b[1;33m\u001b[0m\u001b[0m\n",
      "\u001b[1;32mC:\\Users\\Debjyoty\\anaconda3\\lib\\site-packages\\tensorflow\\python\\eager\\function.py\u001b[0m in \u001b[0;36m__call__\u001b[1;34m(self, *args, **kwargs)\u001b[0m\n\u001b[0;32m   2941\u001b[0m        filtered_flat_args) = self._maybe_define_function(args, kwargs)\n\u001b[0;32m   2942\u001b[0m     return graph_function._call_flat(\n\u001b[1;32m-> 2943\u001b[1;33m         filtered_flat_args, captured_inputs=graph_function.captured_inputs)  # pylint: disable=protected-access\n\u001b[0m\u001b[0;32m   2944\u001b[0m \u001b[1;33m\u001b[0m\u001b[0m\n\u001b[0;32m   2945\u001b[0m   \u001b[1;33m@\u001b[0m\u001b[0mproperty\u001b[0m\u001b[1;33m\u001b[0m\u001b[1;33m\u001b[0m\u001b[0m\n",
      "\u001b[1;32mC:\\Users\\Debjyoty\\anaconda3\\lib\\site-packages\\tensorflow\\python\\eager\\function.py\u001b[0m in \u001b[0;36m_call_flat\u001b[1;34m(self, args, captured_inputs, cancellation_manager)\u001b[0m\n\u001b[0;32m   1917\u001b[0m       \u001b[1;31m# No tape is watching; skip to running the function.\u001b[0m\u001b[1;33m\u001b[0m\u001b[1;33m\u001b[0m\u001b[1;33m\u001b[0m\u001b[0m\n\u001b[0;32m   1918\u001b[0m       return self._build_call_outputs(self._inference_function.call(\n\u001b[1;32m-> 1919\u001b[1;33m           ctx, args, cancellation_manager=cancellation_manager))\n\u001b[0m\u001b[0;32m   1920\u001b[0m     forward_backward = self._select_forward_and_backward_functions(\n\u001b[0;32m   1921\u001b[0m         \u001b[0margs\u001b[0m\u001b[1;33m,\u001b[0m\u001b[1;33m\u001b[0m\u001b[1;33m\u001b[0m\u001b[0m\n",
      "\u001b[1;32mC:\\Users\\Debjyoty\\anaconda3\\lib\\site-packages\\tensorflow\\python\\eager\\function.py\u001b[0m in \u001b[0;36mcall\u001b[1;34m(self, ctx, args, cancellation_manager)\u001b[0m\n\u001b[0;32m    558\u001b[0m               \u001b[0minputs\u001b[0m\u001b[1;33m=\u001b[0m\u001b[0margs\u001b[0m\u001b[1;33m,\u001b[0m\u001b[1;33m\u001b[0m\u001b[1;33m\u001b[0m\u001b[0m\n\u001b[0;32m    559\u001b[0m               \u001b[0mattrs\u001b[0m\u001b[1;33m=\u001b[0m\u001b[0mattrs\u001b[0m\u001b[1;33m,\u001b[0m\u001b[1;33m\u001b[0m\u001b[1;33m\u001b[0m\u001b[0m\n\u001b[1;32m--> 560\u001b[1;33m               ctx=ctx)\n\u001b[0m\u001b[0;32m    561\u001b[0m         \u001b[1;32melse\u001b[0m\u001b[1;33m:\u001b[0m\u001b[1;33m\u001b[0m\u001b[1;33m\u001b[0m\u001b[0m\n\u001b[0;32m    562\u001b[0m           outputs = execute.execute_with_cancellation(\n",
      "\u001b[1;32mC:\\Users\\Debjyoty\\anaconda3\\lib\\site-packages\\tensorflow\\python\\eager\\execute.py\u001b[0m in \u001b[0;36mquick_execute\u001b[1;34m(op_name, num_outputs, inputs, attrs, ctx, name)\u001b[0m\n\u001b[0;32m     58\u001b[0m     \u001b[0mctx\u001b[0m\u001b[1;33m.\u001b[0m\u001b[0mensure_initialized\u001b[0m\u001b[1;33m(\u001b[0m\u001b[1;33m)\u001b[0m\u001b[1;33m\u001b[0m\u001b[1;33m\u001b[0m\u001b[0m\n\u001b[0;32m     59\u001b[0m     tensors = pywrap_tfe.TFE_Py_Execute(ctx._handle, device_name, op_name,\n\u001b[1;32m---> 60\u001b[1;33m                                         inputs, attrs, num_outputs)\n\u001b[0m\u001b[0;32m     61\u001b[0m   \u001b[1;32mexcept\u001b[0m \u001b[0mcore\u001b[0m\u001b[1;33m.\u001b[0m\u001b[0m_NotOkStatusException\u001b[0m \u001b[1;32mas\u001b[0m \u001b[0me\u001b[0m\u001b[1;33m:\u001b[0m\u001b[1;33m\u001b[0m\u001b[1;33m\u001b[0m\u001b[0m\n\u001b[0;32m     62\u001b[0m     \u001b[1;32mif\u001b[0m \u001b[0mname\u001b[0m \u001b[1;32mis\u001b[0m \u001b[1;32mnot\u001b[0m \u001b[1;32mNone\u001b[0m\u001b[1;33m:\u001b[0m\u001b[1;33m\u001b[0m\u001b[1;33m\u001b[0m\u001b[0m\n",
      "\u001b[1;31mKeyboardInterrupt\u001b[0m: "
     ]
    }
   ],
   "source": [
    "model.fit(x=train_batches,\n",
    "    steps_per_epoch=len(train_batches),\n",
    "    validation_data=valid_batches,\n",
    "    validation_steps=len(valid_batches),\n",
    "    epochs=100,\n",
    "    verbose=2\n",
    ")"
   ]
  },
  {
   "cell_type": "code",
   "execution_count": 13,
   "metadata": {},
   "outputs": [
    {
     "name": "stdout",
     "output_type": "stream",
     "text": [
      "Found 236 images belonging to 2 classes.\n",
      "Found 0 images belonging to 2 classes.\n",
      "Found 0 images belonging to 2 classes.\n"
     ]
    }
   ],
   "source": [
    "train_batches = ImageDataGenerator(preprocessing_function=tf.keras.applications.vgg16.preprocess_input) \\\n",
    "    .flow_from_directory(directory=train_path, target_size=(56,56), classes=[ 'orange', 'yellow'], batch_size=10,class_mode='categorical')\n",
    "valid_batches = ImageDataGenerator(preprocessing_function=tf.keras.applications.vgg16.preprocess_input) \\\n",
    "    .flow_from_directory(directory=valid_path, target_size=(56,56), classes=[ 'orange', 'yellow'], batch_size=10,class_mode='categorical')\n",
    "test_batches = ImageDataGenerator(preprocessing_function=tf.keras.applications.vgg16.preprocess_input) \\\n",
    "    .flow_from_directory(directory=test_path, target_size=(56,56), classes=[ 'orange','yellow'], batch_size=10,class_mode='categorical', shuffle=False)"
   ]
  },
  {
   "cell_type": "code",
   "execution_count": 14,
   "metadata": {},
   "outputs": [
    {
     "name": "stdout",
     "output_type": "stream",
     "text": [
      "Epoch 1/10\n",
      "24/24 - 9s - loss: 0.6284 - accuracy: 0.6653\n",
      "Epoch 2/10\n",
      "24/24 - 7s - loss: 0.4049 - accuracy: 0.8390\n",
      "Epoch 3/10\n",
      "24/24 - 7s - loss: 0.2823 - accuracy: 0.8941\n",
      "Epoch 4/10\n",
      "24/24 - 7s - loss: 0.2326 - accuracy: 0.9153\n",
      "Epoch 5/10\n",
      "24/24 - 7s - loss: 0.1507 - accuracy: 0.9534\n",
      "Epoch 6/10\n",
      "24/24 - 7s - loss: 0.1102 - accuracy: 0.9576\n",
      "Epoch 7/10\n",
      "24/24 - 7s - loss: 0.0877 - accuracy: 0.9703\n",
      "Epoch 8/10\n",
      "24/24 - 8s - loss: 0.0759 - accuracy: 0.9746\n",
      "Epoch 9/10\n",
      "24/24 - 9s - loss: 0.0678 - accuracy: 0.9746\n",
      "Epoch 10/10\n",
      "24/24 - 7s - loss: 0.0186 - accuracy: 0.9958\n"
     ]
    },
    {
     "data": {
      "text/plain": [
       "<tensorflow.python.keras.callbacks.History at 0x2030ce0ef08>"
      ]
     },
     "execution_count": 14,
     "metadata": {},
     "output_type": "execute_result"
    }
   ],
   "source": [
    "model.fit(x=train_batches,\n",
    "    steps_per_epoch=len(train_batches),\n",
    "    validation_data=valid_batches,\n",
    "    validation_steps=len(valid_batches),\n",
    "    epochs=10,\n",
    "    verbose=2\n",
    ")"
   ]
  },
  {
   "cell_type": "code",
   "execution_count": 15,
   "metadata": {},
   "outputs": [
    {
     "name": "stdout",
     "output_type": "stream",
     "text": [
      "Found 454 images belonging to 3 classes.\n",
      "Found 30 images belonging to 3 classes.\n",
      "Found 2 images belonging to 3 classes.\n"
     ]
    }
   ],
   "source": [
    "train_batches = ImageDataGenerator(preprocessing_function=tf.keras.applications.vgg16.preprocess_input) \\\n",
    "    .flow_from_directory(directory=train_path, target_size=(56,56), classes=['blue', 'green', 'purple'], batch_size=10)\n",
    "valid_batches = ImageDataGenerator(preprocessing_function=tf.keras.applications.vgg16.preprocess_input) \\\n",
    "    .flow_from_directory(directory=valid_path, target_size=(56,56), classes=['blue', 'green', 'purple'], batch_size=10)\n",
    "test_batches = ImageDataGenerator(preprocessing_function=tf.keras.applications.vgg16.preprocess_input) \\\n",
    "    .flow_from_directory(directory=test_path, target_size=(56,56), classes=['blue', 'green', 'purple'], batch_size=10, shuffle=False)"
   ]
  },
  {
   "cell_type": "code",
   "execution_count": 16,
   "metadata": {},
   "outputs": [
    {
     "name": "stdout",
     "output_type": "stream",
     "text": [
      "Epoch 1/100\n",
      "46/46 - 16s - loss: 1.0062 - accuracy: 0.5308 - val_loss: 0.7146 - val_accuracy: 0.5333\n",
      "Epoch 2/100\n",
      "46/46 - 14s - loss: 0.5223 - accuracy: 0.7577 - val_loss: 0.5631 - val_accuracy: 0.5667\n",
      "Epoch 3/100\n",
      "46/46 - 14s - loss: 0.4963 - accuracy: 0.7907 - val_loss: 0.6350 - val_accuracy: 0.6000\n",
      "Epoch 4/100\n",
      "46/46 - 14s - loss: 0.4405 - accuracy: 0.8062 - val_loss: 0.4741 - val_accuracy: 0.6000\n",
      "Epoch 5/100\n",
      "46/46 - 14s - loss: 0.4242 - accuracy: 0.7885 - val_loss: 0.5199 - val_accuracy: 0.6000\n",
      "Epoch 6/100\n",
      "46/46 - 14s - loss: 0.4026 - accuracy: 0.8106 - val_loss: 0.7846 - val_accuracy: 0.6000\n",
      "Epoch 7/100\n",
      "46/46 - 14s - loss: 0.3720 - accuracy: 0.8260 - val_loss: 0.5672 - val_accuracy: 0.6000\n",
      "Epoch 8/100\n",
      "46/46 - 14s - loss: 0.3514 - accuracy: 0.8150 - val_loss: 0.6240 - val_accuracy: 0.6000\n",
      "Epoch 9/100\n",
      "46/46 - 14s - loss: 0.3191 - accuracy: 0.8348 - val_loss: 0.7646 - val_accuracy: 0.6000\n",
      "Epoch 10/100\n",
      "46/46 - 14s - loss: 0.2961 - accuracy: 0.8458 - val_loss: 0.9806 - val_accuracy: 0.6000\n",
      "Epoch 11/100\n",
      "46/46 - 14s - loss: 0.2693 - accuracy: 0.8612 - val_loss: 0.9964 - val_accuracy: 0.6333\n",
      "Epoch 12/100\n",
      "46/46 - 14s - loss: 0.2582 - accuracy: 0.8700 - val_loss: 0.6965 - val_accuracy: 0.6333\n",
      "Epoch 13/100\n",
      "46/46 - 15s - loss: 0.2423 - accuracy: 0.9097 - val_loss: 0.8588 - val_accuracy: 0.6333\n",
      "Epoch 14/100\n",
      "46/46 - 16s - loss: 0.2381 - accuracy: 0.8899 - val_loss: 0.6149 - val_accuracy: 0.7000\n",
      "Epoch 15/100\n",
      "46/46 - 15s - loss: 0.2202 - accuracy: 0.9251 - val_loss: 0.6566 - val_accuracy: 0.7000\n",
      "Epoch 16/100\n",
      "46/46 - 14s - loss: 0.1335 - accuracy: 0.9493 - val_loss: 0.6338 - val_accuracy: 0.7000\n",
      "Epoch 17/100\n",
      "46/46 - 15s - loss: 0.1336 - accuracy: 0.9559 - val_loss: 0.8335 - val_accuracy: 0.6333\n",
      "Epoch 18/100\n",
      "46/46 - 16s - loss: 0.1051 - accuracy: 0.9581 - val_loss: 1.0537 - val_accuracy: 0.6667\n",
      "Epoch 19/100\n",
      "46/46 - 15s - loss: 0.1641 - accuracy: 0.9427 - val_loss: 1.3099 - val_accuracy: 0.6667\n",
      "Epoch 20/100\n",
      "46/46 - 16s - loss: 0.0871 - accuracy: 0.9780 - val_loss: 0.9452 - val_accuracy: 0.7000\n",
      "Epoch 21/100\n",
      "46/46 - 16s - loss: 0.0862 - accuracy: 0.9648 - val_loss: 1.4117 - val_accuracy: 0.6667\n",
      "Epoch 22/100\n",
      "46/46 - 17s - loss: 0.0969 - accuracy: 0.9648 - val_loss: 1.2005 - val_accuracy: 0.6667\n",
      "Epoch 23/100\n",
      "46/46 - 17s - loss: 0.0490 - accuracy: 0.9846 - val_loss: 1.0598 - val_accuracy: 0.7000\n",
      "Epoch 24/100\n",
      "46/46 - 16s - loss: 0.0456 - accuracy: 0.9802 - val_loss: 1.6793 - val_accuracy: 0.7000\n",
      "Epoch 25/100\n",
      "46/46 - 17s - loss: 0.0613 - accuracy: 0.9846 - val_loss: 1.0992 - val_accuracy: 0.7333\n",
      "Epoch 26/100\n",
      "46/46 - 15s - loss: 0.0312 - accuracy: 0.9868 - val_loss: 1.2951 - val_accuracy: 0.6667\n",
      "Epoch 27/100\n"
     ]
    },
    {
     "ename": "KeyboardInterrupt",
     "evalue": "",
     "output_type": "error",
     "traceback": [
      "\u001b[1;31m---------------------------------------------------------------------------\u001b[0m",
      "\u001b[1;31mKeyboardInterrupt\u001b[0m                         Traceback (most recent call last)",
      "\u001b[1;32m<ipython-input-16-2cf6eb17a08f>\u001b[0m in \u001b[0;36m<module>\u001b[1;34m\u001b[0m\n\u001b[0;32m      4\u001b[0m     \u001b[0mvalidation_steps\u001b[0m\u001b[1;33m=\u001b[0m\u001b[0mlen\u001b[0m\u001b[1;33m(\u001b[0m\u001b[0mvalid_batches\u001b[0m\u001b[1;33m)\u001b[0m\u001b[1;33m,\u001b[0m\u001b[1;33m\u001b[0m\u001b[1;33m\u001b[0m\u001b[0m\n\u001b[0;32m      5\u001b[0m     \u001b[0mepochs\u001b[0m\u001b[1;33m=\u001b[0m\u001b[1;36m100\u001b[0m\u001b[1;33m,\u001b[0m\u001b[1;33m\u001b[0m\u001b[1;33m\u001b[0m\u001b[0m\n\u001b[1;32m----> 6\u001b[1;33m     \u001b[0mverbose\u001b[0m\u001b[1;33m=\u001b[0m\u001b[1;36m2\u001b[0m\u001b[1;33m\u001b[0m\u001b[1;33m\u001b[0m\u001b[0m\n\u001b[0m\u001b[0;32m      7\u001b[0m )\n",
      "\u001b[1;32mC:\\Users\\Debjyoty\\anaconda3\\lib\\site-packages\\tensorflow\\python\\keras\\engine\\training.py\u001b[0m in \u001b[0;36mfit\u001b[1;34m(self, x, y, batch_size, epochs, verbose, callbacks, validation_split, validation_data, shuffle, class_weight, sample_weight, initial_epoch, steps_per_epoch, validation_steps, validation_batch_size, validation_freq, max_queue_size, workers, use_multiprocessing)\u001b[0m\n\u001b[0;32m   1098\u001b[0m                 _r=1):\n\u001b[0;32m   1099\u001b[0m               \u001b[0mcallbacks\u001b[0m\u001b[1;33m.\u001b[0m\u001b[0mon_train_batch_begin\u001b[0m\u001b[1;33m(\u001b[0m\u001b[0mstep\u001b[0m\u001b[1;33m)\u001b[0m\u001b[1;33m\u001b[0m\u001b[1;33m\u001b[0m\u001b[0m\n\u001b[1;32m-> 1100\u001b[1;33m               \u001b[0mtmp_logs\u001b[0m \u001b[1;33m=\u001b[0m \u001b[0mself\u001b[0m\u001b[1;33m.\u001b[0m\u001b[0mtrain_function\u001b[0m\u001b[1;33m(\u001b[0m\u001b[0miterator\u001b[0m\u001b[1;33m)\u001b[0m\u001b[1;33m\u001b[0m\u001b[1;33m\u001b[0m\u001b[0m\n\u001b[0m\u001b[0;32m   1101\u001b[0m               \u001b[1;32mif\u001b[0m \u001b[0mdata_handler\u001b[0m\u001b[1;33m.\u001b[0m\u001b[0mshould_sync\u001b[0m\u001b[1;33m:\u001b[0m\u001b[1;33m\u001b[0m\u001b[1;33m\u001b[0m\u001b[0m\n\u001b[0;32m   1102\u001b[0m                 \u001b[0mcontext\u001b[0m\u001b[1;33m.\u001b[0m\u001b[0masync_wait\u001b[0m\u001b[1;33m(\u001b[0m\u001b[1;33m)\u001b[0m\u001b[1;33m\u001b[0m\u001b[1;33m\u001b[0m\u001b[0m\n",
      "\u001b[1;32mC:\\Users\\Debjyoty\\anaconda3\\lib\\site-packages\\tensorflow\\python\\eager\\def_function.py\u001b[0m in \u001b[0;36m__call__\u001b[1;34m(self, *args, **kwds)\u001b[0m\n\u001b[0;32m    826\u001b[0m     \u001b[0mtracing_count\u001b[0m \u001b[1;33m=\u001b[0m \u001b[0mself\u001b[0m\u001b[1;33m.\u001b[0m\u001b[0mexperimental_get_tracing_count\u001b[0m\u001b[1;33m(\u001b[0m\u001b[1;33m)\u001b[0m\u001b[1;33m\u001b[0m\u001b[1;33m\u001b[0m\u001b[0m\n\u001b[0;32m    827\u001b[0m     \u001b[1;32mwith\u001b[0m \u001b[0mtrace\u001b[0m\u001b[1;33m.\u001b[0m\u001b[0mTrace\u001b[0m\u001b[1;33m(\u001b[0m\u001b[0mself\u001b[0m\u001b[1;33m.\u001b[0m\u001b[0m_name\u001b[0m\u001b[1;33m)\u001b[0m \u001b[1;32mas\u001b[0m \u001b[0mtm\u001b[0m\u001b[1;33m:\u001b[0m\u001b[1;33m\u001b[0m\u001b[1;33m\u001b[0m\u001b[0m\n\u001b[1;32m--> 828\u001b[1;33m       \u001b[0mresult\u001b[0m \u001b[1;33m=\u001b[0m \u001b[0mself\u001b[0m\u001b[1;33m.\u001b[0m\u001b[0m_call\u001b[0m\u001b[1;33m(\u001b[0m\u001b[1;33m*\u001b[0m\u001b[0margs\u001b[0m\u001b[1;33m,\u001b[0m \u001b[1;33m**\u001b[0m\u001b[0mkwds\u001b[0m\u001b[1;33m)\u001b[0m\u001b[1;33m\u001b[0m\u001b[1;33m\u001b[0m\u001b[0m\n\u001b[0m\u001b[0;32m    829\u001b[0m       \u001b[0mcompiler\u001b[0m \u001b[1;33m=\u001b[0m \u001b[1;34m\"xla\"\u001b[0m \u001b[1;32mif\u001b[0m \u001b[0mself\u001b[0m\u001b[1;33m.\u001b[0m\u001b[0m_experimental_compile\u001b[0m \u001b[1;32melse\u001b[0m \u001b[1;34m\"nonXla\"\u001b[0m\u001b[1;33m\u001b[0m\u001b[1;33m\u001b[0m\u001b[0m\n\u001b[0;32m    830\u001b[0m       \u001b[0mnew_tracing_count\u001b[0m \u001b[1;33m=\u001b[0m \u001b[0mself\u001b[0m\u001b[1;33m.\u001b[0m\u001b[0mexperimental_get_tracing_count\u001b[0m\u001b[1;33m(\u001b[0m\u001b[1;33m)\u001b[0m\u001b[1;33m\u001b[0m\u001b[1;33m\u001b[0m\u001b[0m\n",
      "\u001b[1;32mC:\\Users\\Debjyoty\\anaconda3\\lib\\site-packages\\tensorflow\\python\\eager\\def_function.py\u001b[0m in \u001b[0;36m_call\u001b[1;34m(self, *args, **kwds)\u001b[0m\n\u001b[0;32m    853\u001b[0m       \u001b[1;31m# In this case we have created variables on the first call, so we run the\u001b[0m\u001b[1;33m\u001b[0m\u001b[1;33m\u001b[0m\u001b[1;33m\u001b[0m\u001b[0m\n\u001b[0;32m    854\u001b[0m       \u001b[1;31m# defunned version which is guaranteed to never create variables.\u001b[0m\u001b[1;33m\u001b[0m\u001b[1;33m\u001b[0m\u001b[1;33m\u001b[0m\u001b[0m\n\u001b[1;32m--> 855\u001b[1;33m       \u001b[1;32mreturn\u001b[0m \u001b[0mself\u001b[0m\u001b[1;33m.\u001b[0m\u001b[0m_stateless_fn\u001b[0m\u001b[1;33m(\u001b[0m\u001b[1;33m*\u001b[0m\u001b[0margs\u001b[0m\u001b[1;33m,\u001b[0m \u001b[1;33m**\u001b[0m\u001b[0mkwds\u001b[0m\u001b[1;33m)\u001b[0m  \u001b[1;31m# pylint: disable=not-callable\u001b[0m\u001b[1;33m\u001b[0m\u001b[1;33m\u001b[0m\u001b[0m\n\u001b[0m\u001b[0;32m    856\u001b[0m     \u001b[1;32melif\u001b[0m \u001b[0mself\u001b[0m\u001b[1;33m.\u001b[0m\u001b[0m_stateful_fn\u001b[0m \u001b[1;32mis\u001b[0m \u001b[1;32mnot\u001b[0m \u001b[1;32mNone\u001b[0m\u001b[1;33m:\u001b[0m\u001b[1;33m\u001b[0m\u001b[1;33m\u001b[0m\u001b[0m\n\u001b[0;32m    857\u001b[0m       \u001b[1;31m# Release the lock early so that multiple threads can perform the call\u001b[0m\u001b[1;33m\u001b[0m\u001b[1;33m\u001b[0m\u001b[1;33m\u001b[0m\u001b[0m\n",
      "\u001b[1;32mC:\\Users\\Debjyoty\\anaconda3\\lib\\site-packages\\tensorflow\\python\\eager\\function.py\u001b[0m in \u001b[0;36m__call__\u001b[1;34m(self, *args, **kwargs)\u001b[0m\n\u001b[0;32m   2941\u001b[0m        filtered_flat_args) = self._maybe_define_function(args, kwargs)\n\u001b[0;32m   2942\u001b[0m     return graph_function._call_flat(\n\u001b[1;32m-> 2943\u001b[1;33m         filtered_flat_args, captured_inputs=graph_function.captured_inputs)  # pylint: disable=protected-access\n\u001b[0m\u001b[0;32m   2944\u001b[0m \u001b[1;33m\u001b[0m\u001b[0m\n\u001b[0;32m   2945\u001b[0m   \u001b[1;33m@\u001b[0m\u001b[0mproperty\u001b[0m\u001b[1;33m\u001b[0m\u001b[1;33m\u001b[0m\u001b[0m\n",
      "\u001b[1;32mC:\\Users\\Debjyoty\\anaconda3\\lib\\site-packages\\tensorflow\\python\\eager\\function.py\u001b[0m in \u001b[0;36m_call_flat\u001b[1;34m(self, args, captured_inputs, cancellation_manager)\u001b[0m\n\u001b[0;32m   1917\u001b[0m       \u001b[1;31m# No tape is watching; skip to running the function.\u001b[0m\u001b[1;33m\u001b[0m\u001b[1;33m\u001b[0m\u001b[1;33m\u001b[0m\u001b[0m\n\u001b[0;32m   1918\u001b[0m       return self._build_call_outputs(self._inference_function.call(\n\u001b[1;32m-> 1919\u001b[1;33m           ctx, args, cancellation_manager=cancellation_manager))\n\u001b[0m\u001b[0;32m   1920\u001b[0m     forward_backward = self._select_forward_and_backward_functions(\n\u001b[0;32m   1921\u001b[0m         \u001b[0margs\u001b[0m\u001b[1;33m,\u001b[0m\u001b[1;33m\u001b[0m\u001b[1;33m\u001b[0m\u001b[0m\n",
      "\u001b[1;32mC:\\Users\\Debjyoty\\anaconda3\\lib\\site-packages\\tensorflow\\python\\eager\\function.py\u001b[0m in \u001b[0;36mcall\u001b[1;34m(self, ctx, args, cancellation_manager)\u001b[0m\n\u001b[0;32m    558\u001b[0m               \u001b[0minputs\u001b[0m\u001b[1;33m=\u001b[0m\u001b[0margs\u001b[0m\u001b[1;33m,\u001b[0m\u001b[1;33m\u001b[0m\u001b[1;33m\u001b[0m\u001b[0m\n\u001b[0;32m    559\u001b[0m               \u001b[0mattrs\u001b[0m\u001b[1;33m=\u001b[0m\u001b[0mattrs\u001b[0m\u001b[1;33m,\u001b[0m\u001b[1;33m\u001b[0m\u001b[1;33m\u001b[0m\u001b[0m\n\u001b[1;32m--> 560\u001b[1;33m               ctx=ctx)\n\u001b[0m\u001b[0;32m    561\u001b[0m         \u001b[1;32melse\u001b[0m\u001b[1;33m:\u001b[0m\u001b[1;33m\u001b[0m\u001b[1;33m\u001b[0m\u001b[0m\n\u001b[0;32m    562\u001b[0m           outputs = execute.execute_with_cancellation(\n",
      "\u001b[1;32mC:\\Users\\Debjyoty\\anaconda3\\lib\\site-packages\\tensorflow\\python\\eager\\execute.py\u001b[0m in \u001b[0;36mquick_execute\u001b[1;34m(op_name, num_outputs, inputs, attrs, ctx, name)\u001b[0m\n\u001b[0;32m     58\u001b[0m     \u001b[0mctx\u001b[0m\u001b[1;33m.\u001b[0m\u001b[0mensure_initialized\u001b[0m\u001b[1;33m(\u001b[0m\u001b[1;33m)\u001b[0m\u001b[1;33m\u001b[0m\u001b[1;33m\u001b[0m\u001b[0m\n\u001b[0;32m     59\u001b[0m     tensors = pywrap_tfe.TFE_Py_Execute(ctx._handle, device_name, op_name,\n\u001b[1;32m---> 60\u001b[1;33m                                         inputs, attrs, num_outputs)\n\u001b[0m\u001b[0;32m     61\u001b[0m   \u001b[1;32mexcept\u001b[0m \u001b[0mcore\u001b[0m\u001b[1;33m.\u001b[0m\u001b[0m_NotOkStatusException\u001b[0m \u001b[1;32mas\u001b[0m \u001b[0me\u001b[0m\u001b[1;33m:\u001b[0m\u001b[1;33m\u001b[0m\u001b[1;33m\u001b[0m\u001b[0m\n\u001b[0;32m     62\u001b[0m     \u001b[1;32mif\u001b[0m \u001b[0mname\u001b[0m \u001b[1;32mis\u001b[0m \u001b[1;32mnot\u001b[0m \u001b[1;32mNone\u001b[0m\u001b[1;33m:\u001b[0m\u001b[1;33m\u001b[0m\u001b[1;33m\u001b[0m\u001b[0m\n",
      "\u001b[1;31mKeyboardInterrupt\u001b[0m: "
     ]
    }
   ],
   "source": [
    "model.fit(x=train_batches,\n",
    "    steps_per_epoch=len(train_batches),\n",
    "    validation_data=valid_batches,\n",
    "    validation_steps=len(valid_batches),\n",
    "    epochs=100,\n",
    "    verbose=2\n",
    ")"
   ]
  },
  {
   "cell_type": "code",
   "execution_count": 8,
   "metadata": {},
   "outputs": [
    {
     "name": "stdout",
     "output_type": "stream",
     "text": [
      "Found 366 images belonging to 2 classes.\n",
      "Found 12 images belonging to 2 classes.\n",
      "Found 2 images belonging to 2 classes.\n"
     ]
    }
   ],
   "source": [
    "train_batches = ImageDataGenerator(preprocessing_function=tf.keras.applications.vgg16.preprocess_input) \\\n",
    "    .flow_from_directory(directory=train_path, target_size=(56,56), classes=['blue', 'red'], batch_size=10)\n",
    "valid_batches = ImageDataGenerator(preprocessing_function=tf.keras.applications.vgg16.preprocess_input) \\\n",
    "    .flow_from_directory(directory=valid_path, target_size=(56,56), classes=['blue', 'red'], batch_size=10)\n",
    "test_batches = ImageDataGenerator(preprocessing_function=tf.keras.applications.vgg16.preprocess_input) \\\n",
    "    .flow_from_directory(directory=test_path, target_size=(56,56), classes=['blue', 'red'], batch_size=10, shuffle=False)"
   ]
  },
  {
   "cell_type": "code",
   "execution_count": 70,
   "metadata": {},
   "outputs": [
    {
     "name": "stdout",
     "output_type": "stream",
     "text": [
      "Epoch 1/20\n",
      "17/17 - 5s - loss: 0.6933 - accuracy: 0.4815 - val_loss: 0.6931 - val_accuracy: 0.5000\n",
      "Epoch 2/20\n",
      "17/17 - 5s - loss: 0.6933 - accuracy: 0.4691 - val_loss: 0.6931 - val_accuracy: 0.5000\n",
      "Epoch 3/20\n",
      "17/17 - 5s - loss: 0.6933 - accuracy: 0.5185 - val_loss: 0.6931 - val_accuracy: 0.5000\n",
      "Epoch 4/20\n",
      "17/17 - 5s - loss: 0.6934 - accuracy: 0.4259 - val_loss: 0.6931 - val_accuracy: 0.5000\n",
      "Epoch 5/20\n",
      "17/17 - 5s - loss: 0.6934 - accuracy: 0.4815 - val_loss: 0.6932 - val_accuracy: 0.5000\n",
      "Epoch 6/20\n",
      "17/17 - 5s - loss: 0.6933 - accuracy: 0.4815 - val_loss: 0.6931 - val_accuracy: 0.5000\n",
      "Epoch 7/20\n",
      "17/17 - 5s - loss: 0.6932 - accuracy: 0.5185 - val_loss: 0.6932 - val_accuracy: 0.5000\n",
      "Epoch 8/20\n",
      "17/17 - 5s - loss: 0.6931 - accuracy: 0.5185 - val_loss: 0.6932 - val_accuracy: 0.5000\n",
      "Epoch 9/20\n",
      "17/17 - 6s - loss: 0.6931 - accuracy: 0.5185 - val_loss: 0.6932 - val_accuracy: 0.5000\n",
      "Epoch 10/20\n",
      "17/17 - 6s - loss: 0.6929 - accuracy: 0.5185 - val_loss: 0.6933 - val_accuracy: 0.5000\n",
      "Epoch 11/20\n",
      "17/17 - 6s - loss: 0.6928 - accuracy: 0.5185 - val_loss: 0.6933 - val_accuracy: 0.5000\n",
      "Epoch 12/20\n",
      "17/17 - 6s - loss: 0.6928 - accuracy: 0.5185 - val_loss: 0.6933 - val_accuracy: 0.5000\n",
      "Epoch 13/20\n",
      "17/17 - 6s - loss: 0.6926 - accuracy: 0.5185 - val_loss: 0.6933 - val_accuracy: 0.5000\n",
      "Epoch 14/20\n",
      "17/17 - 6s - loss: 0.6928 - accuracy: 0.5185 - val_loss: 0.6935 - val_accuracy: 0.5000\n",
      "Epoch 15/20\n",
      "17/17 - 6s - loss: 0.6926 - accuracy: 0.5185 - val_loss: 0.6936 - val_accuracy: 0.5000\n",
      "Epoch 16/20\n",
      "17/17 - 6s - loss: 0.6925 - accuracy: 0.5185 - val_loss: 0.6937 - val_accuracy: 0.5000\n",
      "Epoch 17/20\n",
      "17/17 - 6s - loss: 0.6925 - accuracy: 0.5185 - val_loss: 0.6938 - val_accuracy: 0.5000\n",
      "Epoch 18/20\n",
      "17/17 - 6s - loss: 0.6925 - accuracy: 0.5185 - val_loss: 0.6938 - val_accuracy: 0.5000\n",
      "Epoch 19/20\n",
      "17/17 - 6s - loss: 0.6929 - accuracy: 0.5185 - val_loss: 0.6937 - val_accuracy: 0.5000\n",
      "Epoch 20/20\n",
      "17/17 - 6s - loss: 0.6926 - accuracy: 0.5185 - val_loss: 0.6937 - val_accuracy: 0.5000\n"
     ]
    },
    {
     "data": {
      "text/plain": [
       "<tensorflow.python.keras.callbacks.History at 0x1fd84064f08>"
      ]
     },
     "execution_count": 70,
     "metadata": {},
     "output_type": "execute_result"
    }
   ],
   "source": [
    "model.fit(x=train_batches,\n",
    "    steps_per_epoch=len(train_batches),\n",
    "    validation_data=valid_batches,\n",
    "    validation_steps=len(valid_batches),\n",
    "    epochs=20,\n",
    "    verbose=2\n",
    ")"
   ]
  },
  {
   "cell_type": "code",
   "execution_count": 21,
   "metadata": {},
   "outputs": [
    {
     "name": "stdout",
     "output_type": "stream",
     "text": [
      "1/1 - 1s\n"
     ]
    }
   ],
   "source": [
    "item,label = next(test_batches)\n",
    "pred= model.predict(x= test_batches, steps = len(test_batches), verbose = 2)\n"
   ]
  },
  {
   "cell_type": "code",
   "execution_count": 22,
   "metadata": {},
   "outputs": [
    {
     "data": {
      "text/plain": [
       "array([[9.999914e-01, 8.615208e-06]], dtype=float32)"
      ]
     },
     "execution_count": 22,
     "metadata": {},
     "output_type": "execute_result"
    }
   ],
   "source": [
    "pred"
   ]
  },
  {
   "cell_type": "code",
   "execution_count": 25,
   "metadata": {},
   "outputs": [],
   "source": [
    "predclass= np.argmax(pred)"
   ]
  },
  {
   "cell_type": "code",
   "execution_count": 26,
   "metadata": {},
   "outputs": [
    {
     "data": {
      "text/plain": [
       "0"
      ]
     },
     "execution_count": 26,
     "metadata": {},
     "output_type": "execute_result"
    }
   ],
   "source": [
    "predclass"
   ]
  },
  {
   "cell_type": "code",
   "execution_count": 8,
   "metadata": {},
   "outputs": [],
   "source": [
    "import cv2 as cv\n",
    "import numpy as np\n",
    "import pandas as pd"
   ]
  },
  {
   "cell_type": "code",
   "execution_count": 9,
   "metadata": {},
   "outputs": [],
   "source": [
    "path= \"blueimg1.jpg\"\n",
    "img= cv.imread(path)"
   ]
  },
  {
   "cell_type": "code",
   "execution_count": 18,
   "metadata": {},
   "outputs": [],
   "source": [
    "img=cv.resize(img, (56,56))\n",
    "imgarray= image.img_to_array(img)\n",
    "imgbatch= np.expand_dims(imgarray,axis=0)\n",
    "imgpreprocess=tf.keras.applications.vgg16.preprocess_input(imgbatch)"
   ]
  },
  {
   "cell_type": "code",
   "execution_count": 2,
   "metadata": {},
   "outputs": [
    {
     "ename": "NameError",
     "evalue": "name 'model' is not defined",
     "output_type": "error",
     "traceback": [
      "\u001b[1;31m---------------------------------------------------------------------------\u001b[0m",
      "\u001b[1;31mNameError\u001b[0m                                 Traceback (most recent call last)",
      "\u001b[1;32m<ipython-input-2-602ad7a9f96b>\u001b[0m in \u001b[0;36m<module>\u001b[1;34m\u001b[0m\n\u001b[1;32m----> 1\u001b[1;33m \u001b[0mpred\u001b[0m\u001b[1;33m=\u001b[0m \u001b[0mmodel\u001b[0m\u001b[1;33m.\u001b[0m\u001b[0mpredict\u001b[0m\u001b[1;33m(\u001b[0m\u001b[0mimgpreprocess\u001b[0m\u001b[1;33m)\u001b[0m\u001b[1;33m\u001b[0m\u001b[1;33m\u001b[0m\u001b[0m\n\u001b[0m",
      "\u001b[1;31mNameError\u001b[0m: name 'model' is not defined"
     ]
    }
   ],
   "source": [
    "pred= model.predict(imgpreprocess)"
   ]
  },
  {
   "cell_type": "code",
   "execution_count": 20,
   "metadata": {},
   "outputs": [
    {
     "data": {
      "text/plain": [
       "array([[0.38193777, 0.15231289, 0.46574935]], dtype=float32)"
      ]
     },
     "execution_count": 20,
     "metadata": {},
     "output_type": "execute_result"
    }
   ],
   "source": [
    "pred"
   ]
  },
  {
   "cell_type": "code",
   "execution_count": 1,
   "metadata": {},
   "outputs": [
    {
     "ename": "NameError",
     "evalue": "name 'model' is not defined",
     "output_type": "error",
     "traceback": [
      "\u001b[1;31m---------------------------------------------------------------------------\u001b[0m",
      "\u001b[1;31mNameError\u001b[0m                                 Traceback (most recent call last)",
      "\u001b[1;32m<ipython-input-1-347b7d0ec1dd>\u001b[0m in \u001b[0;36m<module>\u001b[1;34m\u001b[0m\n\u001b[1;32m----> 1\u001b[1;33m \u001b[0mmodel\u001b[0m\u001b[1;33m.\u001b[0m\u001b[0msave_weights\u001b[0m\u001b[1;33m(\u001b[0m\u001b[1;34m'models/my_model_weights.h5'\u001b[0m\u001b[1;33m)\u001b[0m\u001b[1;33m\u001b[0m\u001b[1;33m\u001b[0m\u001b[0m\n\u001b[0m",
      "\u001b[1;31mNameError\u001b[0m: name 'model' is not defined"
     ]
    }
   ],
   "source": [
    "model.save_weights('models/my_model_weights.h5')"
   ]
  },
  {
   "cell_type": "code",
   "execution_count": 18,
   "metadata": {},
   "outputs": [],
   "source": [
    "model.save('models/firstmodel.h5')"
   ]
  },
  {
   "cell_type": "code",
   "execution_count": null,
   "metadata": {},
   "outputs": [],
   "source": []
  }
 ],
 "metadata": {
  "kernelspec": {
   "display_name": "Python 3",
   "language": "python",
   "name": "python3"
  },
  "language_info": {
   "codemirror_mode": {
    "name": "ipython",
    "version": 3
   },
   "file_extension": ".py",
   "mimetype": "text/x-python",
   "name": "python",
   "nbconvert_exporter": "python",
   "pygments_lexer": "ipython3",
   "version": "3.7.6"
  }
 },
 "nbformat": 4,
 "nbformat_minor": 4
}
