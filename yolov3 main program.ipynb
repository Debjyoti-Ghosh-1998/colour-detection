{
 "cells": [
  {
   "cell_type": "code",
   "execution_count": 1,
   "metadata": {},
   "outputs": [],
   "source": [
    "import cv2 as cv\n",
    "import numpy as np\n",
    "import pandas as pd"
   ]
  },
  {
   "cell_type": "code",
   "execution_count": 2,
   "metadata": {},
   "outputs": [],
   "source": [
    "##cap = cv.VideoCapture(0)\n",
    "whT = 320\n",
    "confThreshold =0.5\n",
    "nmsThreshold= 0.2\n",
    "bbox=[]\n",
    "csv_path = 'colors.csv'\n",
    "index = ['color', 'color_name', 'hex', 'R', 'G', 'B']\n",
    "df = pd.read_csv(csv_path, names=index, header=None)"
   ]
  },
  {
   "cell_type": "code",
   "execution_count": 3,
   "metadata": {},
   "outputs": [
    {
     "name": "stdout",
     "output_type": "stream",
     "text": [
      "['person', 'bicycle', 'car', 'motorbike', 'aeroplane', 'bus', 'train', 'truck', 'boat', 'traffic light', 'fire hydrant', 'stop sign', 'parking meter', 'bench', 'bird', 'cat', 'dog', 'horse', 'sheep', 'cow', 'elephant', 'bear', 'zebra', 'giraffe', 'backpack', 'umbrella', 'handbag', 'tie', 'suitcase', 'frisbee', 'skis', 'snowboard', 'sports ball', 'kite', 'baseball bat', 'baseball glove', 'skateboard', 'surfboard', 'tennis racket', 'bottle', 'wine glass', 'cup', 'fork', 'knife', 'spoon', 'bowl', 'banana', 'apple', 'sandwich', 'orange', 'broccoli', 'carrot', 'hot dog', 'pizza', 'donut', 'cake', 'chair', 'sofa', 'pottedplant', 'bed', 'diningtable', 'toilet', 'tvmonitor', 'laptop', 'mouse', 'remote', 'keyboard', 'cell phone', 'microwave', 'oven', 'toaster', 'sink', 'refrigerator', 'book', 'clock', 'vase', 'scissors', 'teddy bear', 'hair drier', 'toothbrush']\n"
     ]
    }
   ],
   "source": [
    "#### LOAD MODEL\n",
    "## Coco Names\n",
    "classesFile = \"coconames.txt\"\n",
    "classNames = []\n",
    "with open(classesFile, 'rt') as f:\n",
    "    classNames = f.read().rstrip('\\n').split('\\n')\n",
    "print(classNames)"
   ]
  },
  {
   "cell_type": "code",
   "execution_count": 4,
   "metadata": {},
   "outputs": [],
   "source": [
    "#####model files\n",
    "modelConfiguration = \"yolov3-320.cfg\"\n",
    "modelWeights = \"yolov3-320.weights\"\n",
    "net = cv.dnn.readNetFromDarknet(modelConfiguration, modelWeights)\n",
    "net.setPreferableBackend(cv.dnn.DNN_BACKEND_OPENCV)\n",
    "net.setPreferableTarget(cv.dnn.DNN_TARGET_CPU)\n",
    " "
   ]
  },
  {
   "cell_type": "code",
   "execution_count": 3,
   "metadata": {},
   "outputs": [],
   "source": [
    "def get_color_name(B, G, R):\n",
    "    minimum = 1000\n",
    "    for i in range(len(df)):\n",
    "        d = abs(R - int(df.loc[i,'R'])) + abs(G - int(df.loc[i,'G'])) + abs(B - int(df.loc[i,'B']))\n",
    "        if d <= minimum:\n",
    "            minimum = d\n",
    "            cname = df.loc[i, 'color_name']\n",
    "\n",
    "    return cname"
   ]
  },
  {
   "cell_type": "code",
   "execution_count": 9,
   "metadata": {},
   "outputs": [],
   "source": [
    "\n",
    "def findObjects(outputs,img):\n",
    "    hT, wT, cT = img.shape\n",
    "    bbox = []\n",
    "    classIds = []\n",
    "    confs = []\n",
    "    for output in outputs:\n",
    "        for det in output:\n",
    "            scores = det[5:]\n",
    "            classId = np.argmax(scores)\n",
    "            confidence = scores[classId]\n",
    "            if confidence > confThreshold:\n",
    "                w,h = int(det[2]*wT) , int(det[3]*hT)\n",
    "                x,y = int((det[0]*wT)-w/2) , int((det[1]*hT)-h/2)\n",
    "                bbox.append([x,y,w,h])\n",
    "                classIds.append(classId)\n",
    "                confs.append(float(confidence))\n",
    " \n",
    "    indices = cv.dnn.NMSBoxes(bbox, confs, confThreshold, nmsThreshold)\n",
    " \n",
    "    for i  in indices:\n",
    "        i = i[0]\n",
    "        box = bbox[i]\n",
    "        x, y, w, h = box[0], box[1], box[2], box[3]\n",
    "              # print(x,y,w,h)\n",
    "        cv.rectangle(img, (x, y), (x+w,y+h), (255, 0 , 255), 2)\n",
    "        imgcrop=img[int(hT-(y+h)+1 + 0.2*h):int(hT-y+1-0.2*h),int(x + 0.2*w):int(x+w-0.2*w)]\n",
    "        imch,imcw,imcc=imgcrop.shape\n",
    "        imgcpnp=np.array(imgcrop)\n",
    "        bluearray=np.empty([imch,imcw])\n",
    "        greenarray=np.empty([imch,imcw])\n",
    "        redarray=np.empty([imch,imcw])\n",
    "        \n",
    "        for j in range(imch):\n",
    "            for k in range(imcw):\n",
    "                bluearray[j][k]=imgcpnp[j][k][0]\n",
    "                greenarray[j][k]=imgcpnp[j][k][1]\n",
    "                redarray[j][k]=imgcpnp[j][k][2]\n",
    "                \n",
    "        bluestd, bluemean=0.8*np.std(bluearray), np.mean(bluearray)\n",
    "        greenstd, greenmean=0.8*np.std(greenarray),np.mean(greenarray)\n",
    "        redstd, redmean =0.8*np.std(redarray), np.mean(redarray)\n",
    "        bs=gs=rs=bn=gn=rn=0\n",
    "        \n",
    "        for l in range(imch):\n",
    "            for m in range(imcw):\n",
    "                if (bluearray[l][m] > bluemean-bluestd ) and (bluearray[l][m] < bluemean+bluestd):\n",
    "                    bs=bs + bluearray[l][m]\n",
    "                    bn=bn + 1\n",
    "                    \n",
    "                if (greenarray[l][m] > greenmean - greenstd) and ( greenarray[l][m]  < greenmean + greenstd):\n",
    "                    gs=gs + greenarray[l][m]\n",
    "                    gn=gn+1\n",
    "                   \n",
    "                if ( redarray[l][m] > redmean - redstd) and ( redarray[l][m] < redmean + redstd):\n",
    "                    rs=rs + redarray[l][m]\n",
    "                    rn=rn + 1\n",
    "                   \n",
    "               \n",
    "           \n",
    "        b=r=g=255\n",
    "        if (bn!=0):\n",
    "            b=bs/bn\n",
    "        if (gn!=0):\n",
    "            g=gs/gn\n",
    "        if (rn!=0):\n",
    "            r=rs/rn\n",
    "        colorname=get_color_name(r,g,b)+ \"      \"\n",
    "        \n",
    "        \n",
    "        \n",
    "        \n",
    "        cv.putText(img,f'{colorname.upper()}{classNames[classIds[i]].upper()} {int(confs[i]*100)}%',(x, y-10), cv.FONT_HERSHEY_SIMPLEX, 0.6, (255, 0, 255), 2)\n",
    "        \n",
    "        \n",
    "    \n"
   ]
  },
  {
   "cell_type": "code",
   "execution_count": 10,
   "metadata": {},
   "outputs": [
    {
     "data": {
      "text/plain": [
       "-1"
      ]
     },
     "execution_count": 10,
     "metadata": {},
     "output_type": "execute_result"
    }
   ],
   "source": [
    "##while True:\n",
    "   ## success, img = cap.read()\n",
    "path= \"redvelvet.jpg\"\n",
    "img= cv.imread(path)\n",
    "blob = cv.dnn.blobFromImage(img, 1 / 255, (whT, whT), [0, 0, 0], 1, crop=False)\n",
    "net.setInput(blob)\n",
    "layersNames = net.getLayerNames()\n",
    "outputNames = [(layersNames[i[0] - 1]) for i in net.getUnconnectedOutLayers()]\n",
    "outputs = net.forward(outputNames)\n",
    "findObjects(outputs,img)\n",
    " \n",
    "cv.imshow('Image', img)\n",
    "cv.waitKey(0)"
   ]
  },
  {
   "cell_type": "code",
   "execution_count": 4,
   "metadata": {},
   "outputs": [
    {
     "data": {
      "text/plain": [
       "'Citrine'"
      ]
     },
     "execution_count": 4,
     "metadata": {},
     "output_type": "execute_result"
    }
   ],
   "source": [
    "get_color_name(26.43, 197.94 , 233.16)"
   ]
  },
  {
   "cell_type": "code",
   "execution_count": 5,
   "metadata": {},
   "outputs": [
    {
     "data": {
      "text/plain": [
       "'Dark Jungle Green'"
      ]
     },
     "execution_count": 5,
     "metadata": {},
     "output_type": "execute_result"
    }
   ],
   "source": [
    "get_color_name(37.76, 36.46, 30.66)"
   ]
  },
  {
   "cell_type": "code",
   "execution_count": 6,
   "metadata": {},
   "outputs": [
    {
     "data": {
      "text/plain": [
       "'Pale Taupe'"
      ]
     },
     "execution_count": 6,
     "metadata": {},
     "output_type": "execute_result"
    }
   ],
   "source": [
    "get_color_name(127.73, 153.50, 180.06)"
   ]
  },
  {
   "cell_type": "code",
   "execution_count": 7,
   "metadata": {},
   "outputs": [
    {
     "data": {
      "text/plain": [
       "'Platinum'"
      ]
     },
     "execution_count": 7,
     "metadata": {},
     "output_type": "execute_result"
    }
   ],
   "source": [
    "get_color_name(232.36, 232.64, 232.88)"
   ]
  },
  {
   "cell_type": "code",
   "execution_count": 8,
   "metadata": {},
   "outputs": [
    {
     "data": {
      "text/plain": [
       "'Steel Blue'"
      ]
     },
     "execution_count": 8,
     "metadata": {},
     "output_type": "execute_result"
    }
   ],
   "source": [
    "get_color_name(173.52912127, 111.94848517 , 55.35795893)"
   ]
  },
  {
   "cell_type": "code",
   "execution_count": 4,
   "metadata": {},
   "outputs": [
    {
     "data": {
      "text/plain": [
       "'Smokey Topaz'"
      ]
     },
     "execution_count": 4,
     "metadata": {},
     "output_type": "execute_result"
    }
   ],
   "source": [
    "get_color_name(62.04435935 , 84.77766249 ,148.01678219)"
   ]
  },
  {
   "cell_type": "code",
   "execution_count": null,
   "metadata": {},
   "outputs": [],
   "source": []
  }
 ],
 "metadata": {
  "kernelspec": {
   "display_name": "Python 3",
   "language": "python",
   "name": "python3"
  },
  "language_info": {
   "codemirror_mode": {
    "name": "ipython",
    "version": 3
   },
   "file_extension": ".py",
   "mimetype": "text/x-python",
   "name": "python",
   "nbconvert_exporter": "python",
   "pygments_lexer": "ipython3",
   "version": "3.7.6"
  }
 },
 "nbformat": 4,
 "nbformat_minor": 4
}
