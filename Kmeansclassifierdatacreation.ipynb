{
 "cells": [
  {
   "cell_type": "code",
   "execution_count": 1,
   "metadata": {},
   "outputs": [],
   "source": [
    "import os\n",
    "import cv2 as cv\n",
    "import numpy as np\n",
    "import pandas as pd\n",
    "import matplotlib.pyplot as plt"
   ]
  },
  {
   "cell_type": "code",
   "execution_count": 2,
   "metadata": {},
   "outputs": [],
   "source": [
    "mycolourdata = pd.DataFrame({\"blue\" : [],\n",
    "                             \"green\": [],\n",
    "                             \"red\"  : []})"
   ]
  },
  {
   "cell_type": "code",
   "execution_count": 44,
   "metadata": {},
   "outputs": [],
   "source": [
    "folderpath= 'data/colors/train/pink'\n",
    "filenames=os.listdir(folderpath)\n",
    "\n",
    "l = len(filenames)"
   ]
  },
  {
   "cell_type": "code",
   "execution_count": 45,
   "metadata": {},
   "outputs": [
    {
     "data": {
      "text/plain": [
       "100"
      ]
     },
     "execution_count": 45,
     "metadata": {},
     "output_type": "execute_result"
    }
   ],
   "source": [
    "l"
   ]
  },
  {
   "cell_type": "code",
   "execution_count": 46,
   "metadata": {},
   "outputs": [],
   "source": [
    "for i in range(len(filenames)):\n",
    "\n",
    "\n",
    "    if(i%30==0):\n",
    "        \n",
    "        img= cv.imread(folderpath + '/' + filenames[i])\n",
    "        imch,imcw,imcc=img.shape\n",
    "        bluearray=np.empty([imch,imcw])\n",
    "        greenarray=np.empty([imch,imcw])\n",
    "        redarray=np.empty([imch,imcw])\n",
    "        imgnp=np.array(img)\n",
    "        for j in range(imch):\n",
    "            for k in range(imcw):\n",
    "                bluearray[j][k] = (img[j][k][0])\n",
    "                greenarray[j][k] = (img[j][k][1])\n",
    "                redarray[j][k] = (img[j][k][2])\n",
    "        bluearray=bluearray.flatten()\n",
    "        greenarray=greenarray.flatten()\n",
    "        redarray=redarray.flatten()\n",
    "        newdata = pd.DataFrame({ \"blue\" : bluearray,\n",
    "                        \"green\": greenarray,\n",
    "                        \"red\"  : redarray})\n",
    "        mycolourdata = mycolourdata.append(newdata, ignore_index= True)\n"
   ]
  },
  {
   "cell_type": "code",
   "execution_count": 46,
   "metadata": {},
   "outputs": [],
   "source": [
    "from sklearn.cluster import KMeans\n",
    "\n"
   ]
  },
  {
   "cell_type": "code",
   "execution_count": 48,
   "metadata": {},
   "outputs": [
    {
     "name": "stderr",
     "output_type": "stream",
     "text": [
      "\n",
      "KeyboardInterrupt\n",
      "\n"
     ]
    }
   ],
   "source": [
    "colourclassclassifier = KMeans(n_clusters=4)\n",
    "colourclassclassifier.fit(mycolourdata)"
   ]
  },
  {
   "cell_type": "code",
   "execution_count": 47,
   "metadata": {},
   "outputs": [
    {
     "data": {
      "text/html": [
       "<div>\n",
       "<style scoped>\n",
       "    .dataframe tbody tr th:only-of-type {\n",
       "        vertical-align: middle;\n",
       "    }\n",
       "\n",
       "    .dataframe tbody tr th {\n",
       "        vertical-align: top;\n",
       "    }\n",
       "\n",
       "    .dataframe thead th {\n",
       "        text-align: right;\n",
       "    }\n",
       "</style>\n",
       "<table border=\"1\" class=\"dataframe\">\n",
       "  <thead>\n",
       "    <tr style=\"text-align: right;\">\n",
       "      <th></th>\n",
       "      <th>blue</th>\n",
       "      <th>green</th>\n",
       "      <th>red</th>\n",
       "    </tr>\n",
       "  </thead>\n",
       "  <tbody>\n",
       "    <tr>\n",
       "      <th>0</th>\n",
       "      <td>136.0</td>\n",
       "      <td>150.0</td>\n",
       "      <td>173.0</td>\n",
       "    </tr>\n",
       "    <tr>\n",
       "      <th>1</th>\n",
       "      <td>139.0</td>\n",
       "      <td>153.0</td>\n",
       "      <td>176.0</td>\n",
       "    </tr>\n",
       "    <tr>\n",
       "      <th>2</th>\n",
       "      <td>138.0</td>\n",
       "      <td>152.0</td>\n",
       "      <td>175.0</td>\n",
       "    </tr>\n",
       "    <tr>\n",
       "      <th>3</th>\n",
       "      <td>148.0</td>\n",
       "      <td>162.0</td>\n",
       "      <td>185.0</td>\n",
       "    </tr>\n",
       "    <tr>\n",
       "      <th>4</th>\n",
       "      <td>154.0</td>\n",
       "      <td>168.0</td>\n",
       "      <td>190.0</td>\n",
       "    </tr>\n",
       "    <tr>\n",
       "      <th>...</th>\n",
       "      <td>...</td>\n",
       "      <td>...</td>\n",
       "      <td>...</td>\n",
       "    </tr>\n",
       "    <tr>\n",
       "      <th>11507978</th>\n",
       "      <td>212.0</td>\n",
       "      <td>211.0</td>\n",
       "      <td>243.0</td>\n",
       "    </tr>\n",
       "    <tr>\n",
       "      <th>11507979</th>\n",
       "      <td>213.0</td>\n",
       "      <td>212.0</td>\n",
       "      <td>244.0</td>\n",
       "    </tr>\n",
       "    <tr>\n",
       "      <th>11507980</th>\n",
       "      <td>213.0</td>\n",
       "      <td>212.0</td>\n",
       "      <td>244.0</td>\n",
       "    </tr>\n",
       "    <tr>\n",
       "      <th>11507981</th>\n",
       "      <td>213.0</td>\n",
       "      <td>212.0</td>\n",
       "      <td>244.0</td>\n",
       "    </tr>\n",
       "    <tr>\n",
       "      <th>11507982</th>\n",
       "      <td>213.0</td>\n",
       "      <td>212.0</td>\n",
       "      <td>244.0</td>\n",
       "    </tr>\n",
       "  </tbody>\n",
       "</table>\n",
       "<p>11507983 rows × 3 columns</p>\n",
       "</div>"
      ],
      "text/plain": [
       "           blue  green    red\n",
       "0         136.0  150.0  173.0\n",
       "1         139.0  153.0  176.0\n",
       "2         138.0  152.0  175.0\n",
       "3         148.0  162.0  185.0\n",
       "4         154.0  168.0  190.0\n",
       "...         ...    ...    ...\n",
       "11507978  212.0  211.0  243.0\n",
       "11507979  213.0  212.0  244.0\n",
       "11507980  213.0  212.0  244.0\n",
       "11507981  213.0  212.0  244.0\n",
       "11507982  213.0  212.0  244.0\n",
       "\n",
       "[11507983 rows x 3 columns]"
      ]
     },
     "execution_count": 47,
     "metadata": {},
     "output_type": "execute_result"
    }
   ],
   "source": [
    "mycolourdata\n"
   ]
  },
  {
   "cell_type": "code",
   "execution_count": 48,
   "metadata": {},
   "outputs": [],
   "source": [
    "mycolourdata.to_csv('mynewerdata.csv')"
   ]
  },
  {
   "cell_type": "code",
   "execution_count": 2,
   "metadata": {},
   "outputs": [],
   "source": [
    "colourdata= pd.read_csv('mydata.csv')"
   ]
  },
  {
   "cell_type": "code",
   "execution_count": 3,
   "metadata": {},
   "outputs": [],
   "source": [
    "from sklearn.cluster import KMeans"
   ]
  },
  {
   "cell_type": "code",
   "execution_count": null,
   "metadata": {},
   "outputs": [],
   "source": [
    "colourclassclassifier = KMeans(n_clusters=4)\n",
    "colourclassclassifier.fit(colourdata)"
   ]
  },
  {
   "cell_type": "code",
   "execution_count": null,
   "metadata": {},
   "outputs": [],
   "source": []
  }
 ],
 "metadata": {
  "kernelspec": {
   "display_name": "Python 3",
   "language": "python",
   "name": "python3"
  },
  "language_info": {
   "codemirror_mode": {
    "name": "ipython",
    "version": 3
   },
   "file_extension": ".py",
   "mimetype": "text/x-python",
   "name": "python",
   "nbconvert_exporter": "python",
   "pygments_lexer": "ipython3",
   "version": "3.7.6"
  }
 },
 "nbformat": 4,
 "nbformat_minor": 4
}
