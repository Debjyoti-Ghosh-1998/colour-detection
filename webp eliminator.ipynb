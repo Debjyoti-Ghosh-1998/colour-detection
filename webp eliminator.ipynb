{
 "cells": [
  {
   "cell_type": "code",
   "execution_count": 1,
   "metadata": {},
   "outputs": [],
   "source": [
    "import os\n",
    "import cv2 as cv\n",
    "from PIL import Image\n",
    "import imghdr"
   ]
  },
  {
   "cell_type": "code",
   "execution_count": 4,
   "metadata": {},
   "outputs": [],
   "source": [
    "folderpath= 'data/colors/train/grey'\n",
    "filenames=os.listdir(folderpath)\n"
   ]
  },
  {
   "cell_type": "code",
   "execution_count": 5,
   "metadata": {},
   "outputs": [],
   "source": [
    "for filename in filenames:\n",
    "    \n",
    "    img= cv.imread(folderpath + '/' + filename)\n",
    "    image_type = imghdr.what(folderpath + '/' + filename)\n",
    "    if  image_type == 'webp':\n",
    "        print(filename)\n",
    "    \n",
    "    "
   ]
  },
  {
   "cell_type": "code",
   "execution_count": 9,
   "metadata": {},
   "outputs": [
    {
     "data": {
      "text/plain": [
       "['yellowimg1.jpg',\n",
       " 'yellowimg10.jpg',\n",
       " 'yellowimg11.jpg',\n",
       " 'yellowimg12.jpg',\n",
       " 'yellowimg13.jpg',\n",
       " 'yellowimg14.jpg',\n",
       " 'yellowimg15.jpg',\n",
       " 'yellowimg16.jpg',\n",
       " 'yellowimg17.jpg',\n",
       " 'yellowimg18(2).jpg',\n",
       " 'yellowimg19(2).jpg',\n",
       " 'yellowimg2.jpg',\n",
       " 'yellowimg20.jpg',\n",
       " 'yellowimg21.jpg',\n",
       " 'yellowimg22(2).jpg',\n",
       " 'yellowimg23.jpg',\n",
       " 'yellowimg24.jpg',\n",
       " 'yellowimg25.jpg',\n",
       " 'yellowimg26.jpg',\n",
       " 'yellowimg27.jpg',\n",
       " 'yellowimg28.jpg',\n",
       " 'yellowimg29.jpg',\n",
       " 'yellowimg3.jpg',\n",
       " 'yellowimg30.jpg',\n",
       " 'yellowimg31(2).jpg',\n",
       " 'yellowimg31.jpg',\n",
       " 'yellowimg32.jpg',\n",
       " 'yellowimg33.jpg',\n",
       " 'yellowimg34.jpg',\n",
       " 'yellowimg35.jpg',\n",
       " 'yellowimg36(2).jpg',\n",
       " 'yellowimg36.jpg',\n",
       " 'yellowimg37.jpg',\n",
       " 'yellowimg38.jpg',\n",
       " 'yellowimg39.jpg',\n",
       " 'yellowimg4.jpg',\n",
       " 'yellowimg40.jpg',\n",
       " 'yellowimg41.jpg',\n",
       " 'yellowimg42.jpg',\n",
       " 'yellowimg43.jpg',\n",
       " 'yellowimg44.jpg',\n",
       " 'yellowimg45.jpg',\n",
       " 'yellowimg46.jpg',\n",
       " 'yellowimg47.jpg',\n",
       " 'yellowimg48.jpg',\n",
       " 'yellowimg49.jpg',\n",
       " 'yellowimg5.jpg',\n",
       " 'yellowimg50.jpg',\n",
       " 'yellowimg51.jpg',\n",
       " 'yellowimg52.jpg',\n",
       " 'yellowimg53.jpg',\n",
       " 'yellowimg54.jpg',\n",
       " 'yellowimg55.jpg',\n",
       " 'yellowimg56.jpg',\n",
       " 'yellowimg57.jpg',\n",
       " 'yellowimg58.jpg',\n",
       " 'yellowimg59.jpg',\n",
       " 'yellowimg6.jpg',\n",
       " 'yellowimg60.jpg',\n",
       " 'yellowimg61.jpg',\n",
       " 'yellowimg62.jpg',\n",
       " 'yellowimg63.jpg',\n",
       " 'yellowimg64.jpg',\n",
       " 'yellowimg65.jpg',\n",
       " 'yellowimg66.jpg',\n",
       " 'yellowimg67.jpg',\n",
       " 'yellowimg68.jpg',\n",
       " 'yellowimg69.jpg',\n",
       " 'yellowimg7.jpg',\n",
       " 'yellowimg70.jpg',\n",
       " 'yellowimg71.jpg',\n",
       " 'yellowimg73.jpg',\n",
       " 'yellowimg74.jpg',\n",
       " 'yellowimg75.jpg',\n",
       " 'yellowimg76(2).jpg',\n",
       " 'yellowimg76(3).jpg',\n",
       " 'yellowimg76(4).jpg',\n",
       " 'yellowimg76.jpg',\n",
       " 'yellowimg8.jpg',\n",
       " 'yellowimg9.jpg']"
      ]
     },
     "execution_count": 9,
     "metadata": {},
     "output_type": "execute_result"
    }
   ],
   "source": [
    "\n",
    "filenames"
   ]
  },
  {
   "cell_type": "code",
   "execution_count": null,
   "metadata": {},
   "outputs": [],
   "source": []
  },
  {
   "cell_type": "code",
   "execution_count": null,
   "metadata": {},
   "outputs": [],
   "source": []
  },
  {
   "cell_type": "code",
   "execution_count": null,
   "metadata": {},
   "outputs": [],
   "source": []
  }
 ],
 "metadata": {
  "kernelspec": {
   "display_name": "Python 3",
   "language": "python",
   "name": "python3"
  },
  "language_info": {
   "codemirror_mode": {
    "name": "ipython",
    "version": 3
   },
   "file_extension": ".py",
   "mimetype": "text/x-python",
   "name": "python",
   "nbconvert_exporter": "python",
   "pygments_lexer": "ipython3",
   "version": "3.7.6"
  }
 },
 "nbformat": 4,
 "nbformat_minor": 4
}
