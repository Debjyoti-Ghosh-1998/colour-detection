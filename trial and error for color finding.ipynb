{
 "cells": [
  {
   "cell_type": "code",
   "execution_count": 8,
   "metadata": {},
   "outputs": [],
   "source": [
    "import cv2 as cv\n",
    "import numpy as np"
   ]
  },
  {
   "cell_type": "code",
   "execution_count": 9,
   "metadata": {},
   "outputs": [],
   "source": [
    "path= \"whiteimg1.jpg\"\n",
    "img= cv.imread(path)"
   ]
  },
  {
   "cell_type": "code",
   "execution_count": 10,
   "metadata": {},
   "outputs": [],
   "source": [
    "hsv_frame=cv.cvtColor(img,cv.COLOR_BGR2HSV)"
   ]
  },
  {
   "cell_type": "code",
   "execution_count": null,
   "metadata": {},
   "outputs": [],
   "source": [
    "low_white = np.array([0,0,168])\n",
    "high_white=np.array([172,111,255])\n",
    "white_mask=cv.inRange(hsv_frame,low_white,high_white)\n",
    "white=cv.bitwise_and(img,img, mask = white_mask)\n",
    "cv.imshow(\"original image\", img)\n",
    "cv.imshow(\"red detection\", white)\n",
    "cv.waitKey(0)"
   ]
  },
  {
   "cell_type": "code",
   "execution_count": 6,
   "metadata": {},
   "outputs": [
    {
     "data": {
      "text/plain": [
       "-1"
      ]
     },
     "execution_count": 6,
     "metadata": {},
     "output_type": "execute_result"
    }
   ],
   "source": [
    "low_orange  = np.array([0,88,209])\n",
    "#low_orange = cv.cvtColor(low_orange,cv.COLOR_BGR2HSV)\n",
    "high_orange = np.array([37,130,255])\n",
    "#high_orange = cv.cvtColor(high_orange,cv.COLOR_BGR2HSV)\n",
    "orange_mask=cv.inRange(hsv_frame,low_orange,high_orange)\n",
    "orange=cv.bitwise_and(img,img, mask = orange_mask)\n",
    "cv.imshow(\"original image\", img)\n",
    "\n",
    "cv.imshow(\"orange detection\", orange)\n",
    "cv.waitKey(0)"
   ]
  },
  {
   "cell_type": "code",
   "execution_count": null,
   "metadata": {},
   "outputs": [],
   "source": []
  }
 ],
 "metadata": {
  "kernelspec": {
   "display_name": "Python 3",
   "language": "python",
   "name": "python3"
  },
  "language_info": {
   "codemirror_mode": {
    "name": "ipython",
    "version": 3
   },
   "file_extension": ".py",
   "mimetype": "text/x-python",
   "name": "python",
   "nbconvert_exporter": "python",
   "pygments_lexer": "ipython3",
   "version": "3.7.6"
  }
 },
 "nbformat": 4,
 "nbformat_minor": 4
}
