{
 "cells": [
  {
   "cell_type": "code",
   "execution_count": null,
   "metadata": {},
   "outputs": [],
   "source": [
    "import cv2 as cv\n",
    "import numpy as np\n",
    "import pandas as pd"
   ]
  },
  {
   "cell_type": "code",
   "execution_count": null,
   "metadata": {},
   "outputs": [],
   "source": [
    "csv_path = 'colors.csv'\n",
    "index = ['color', 'color_name', 'hex', 'R', 'G', 'B']\n",
    "df = pd.read_csv(csv_path, names=index, header=None)\n",
    "minimum=np.array([255,255,255])\n",
    "maximum=np.array([0,0,0])\n"
   ]
  },
  {
   "cell_type": "code",
   "execution_count": null,
   "metadata": {},
   "outputs": [],
   "source": [
    "def findminimum(img):\n",
    "    imgnp=np.array(np)\n",
    "    imch,imcw,imcc= imgnp.shape\n",
    "    minimum=np.array([255,255,255])\n",
    "    bluearray=np.empty([imch,imcw])\n",
    "    greenarray=np.empty([imch,imcw])\n",
    "    redarray=np.empty([imch,imcw])\n",
    "    for j in range(imch):\n",
    "        for k in range(imcw):\n",
    "            bluearray[j][k]=imgnp[j][k][0]\n",
    "            greenarray[j][k]=imgnp[j][k][1]\n",
    "            redarray[j][k]=imgnp[j][k][2]\n",
    "    for l in range(imch):\n",
    "        for m in range(imcw):\n",
    "            if(bluearray[l][m] <= minimum[0] and greenarray[l][m] <= minimum[1] and redarray[l][m] <= minimum[2]):\n",
    "                minimum[0]=bluearray[l][m]\n",
    "                minimum[1]=greenarray[l][m]\n",
    "                minimum[2]=redarray[l][m]\n",
    "    return minimum\n",
    "\n",
    "           \n",
    "       \n",
    "    "
   ]
  },
  {
   "cell_type": "code",
   "execution_count": null,
   "metadata": {},
   "outputs": [],
   "source": [
    "def findmaximum(img):\n",
    "    imgnp=np.array(np)\n",
    "    imch,imcw,imcc= imgnp.shape\n",
    "    maximum=np.array([0,0,0])\n",
    "    bluearray=np.empty([imch,imcw])\n",
    "    greenarray=np.empty([imch,imcw])\n",
    "    redarray=np.empty([imch,imcw])\n",
    "    for j in range(imch):\n",
    "        for k in range(imcw):\n",
    "            bluearray[j][k]=imgnp[j][k][0]\n",
    "            greenarray[j][k]=imgnp[j][k][1]\n",
    "            redarray[j][k]=imgnp[j][k][2]\n",
    "    for l in range(imch):\n",
    "        for m in range(imcw):\n",
    "            if(bluearray[l][m] >= maximum[0] and greenarray[l][m] >= maximum[1] and redarray[l][m] >= maximum[2]):\n",
    "                maximum[0]=bluearray[l][m]\n",
    "                maximum[1]=greenarray[l][m]\n",
    "                maximum[2]=redarray[l][m]\n",
    "    return maximum\n"
   ]
  },
  {
   "cell_type": "code",
   "execution_count": null,
   "metadata": {},
   "outputs": [],
   "source": [
    "path= \"redvelvet.jpg\"\n",
    "img= cv.imread(path)\n",
    "#####find crop image here\n",
    "\n",
    "#####\n",
    "minimum=findminimum(img)\n",
    "maximum=findmaximum(img)\n",
    "print(minimum)\n",
    "print(maximum)"
   ]
  }
 ],
 "metadata": {
  "kernelspec": {
   "display_name": "Python 3",
   "language": "python",
   "name": "python3"
  },
  "language_info": {
   "codemirror_mode": {
    "name": "ipython",
    "version": 3
   },
   "file_extension": ".py",
   "mimetype": "text/x-python",
   "name": "python",
   "nbconvert_exporter": "python",
   "pygments_lexer": "ipython3",
   "version": "3.7.6"
  }
 },
 "nbformat": 4,
 "nbformat_minor": 4
}
