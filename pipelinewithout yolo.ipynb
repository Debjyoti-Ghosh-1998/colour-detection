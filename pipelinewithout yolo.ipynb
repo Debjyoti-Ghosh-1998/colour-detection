{
 "cells": [
  {
   "cell_type": "code",
   "execution_count": 2,
   "metadata": {},
   "outputs": [],
   "source": [
    "import cv2 as cv\n",
    "import numpy as np\n",
    "import pandas as pd\n",
    "import tensorflow as tf\n",
    "from tensorflow import keras\n",
    "from tensorflow.keras.models import Sequential,Model\n",
    "from keras.layers import BatchNormalization, Lambda, Input, Dense, Convolution2D, MaxPooling2D, AveragePooling2D, ZeroPadding2D, Dropout, Flatten, merge, Reshape, Activation\n",
    "from tensorflow.keras.optimizers import Adam\n",
    "from tensorflow.keras.metrics import categorical_crossentropy\n",
    "from keras.layers.merge import Concatenate\n",
    "from tensorflow.keras.preprocessing.image import ImageDataGenerator\n",
    "from tensorflow.keras.preprocessing import image\n",
    "from keras.optimizers import SGD\n",
    "from sklearn.metrics import confusion_matrix\n",
    "import itertools\n",
    "import os\n",
    "import shutil\n",
    "import random\n",
    "import glob\n",
    "import matplotlib.pyplot as plt\n",
    "import warnings\n",
    "warnings.simplefilter(action = 'ignore', category= FutureWarning)\n",
    "%matplotlib inline\n"
   ]
  },
  {
   "cell_type": "code",
   "execution_count": 3,
   "metadata": {},
   "outputs": [],
   "source": [
    "from tensorflow.keras.models import load_model\n",
    "firstmodel = load_model('models/newprimarymodel.h5')\n",
    "cluster0model = load_model('models/cluster0model.h5')\n",
    "cluster1model = load_model('models/cluster1model.h5')\n",
    "cluster2model = load_model('models/cluster2model.h5')\n",
    "cluster3model = load_model('models/cluster3model.h5')\n",
    "cluster4model = load_model('models/cluster4model.h5')\n",
    "cluster5model = load_model('models/cluster5model.h5')\n",
    "blackgreymodel = load_model('models/blackgreymodel.h5')"
   ]
  },
  {
   "cell_type": "code",
   "execution_count": 102,
   "metadata": {},
   "outputs": [],
   "source": [
    "path= \"greyimg15.jpg\"\n",
    "imgcrop= cv.imread(path)\n",
    "hsv_frame=cv.cvtColor(imgcrop,cv.COLOR_BGR2HSV)\n",
    "        \n",
    "low_white = np.array([0,0,168])\n",
    "high_white=np.array([172,111,255])\n",
    "white_mask=cv.inRange(hsv_frame,low_white,high_white)\n",
    "white=cv.bitwise_and(imgcrop,imgcrop, mask = white_mask)\n",
    "imch,imcw,imcc= white.shape\n",
    "imgcpnp=np.array(white)\n",
    "requiredpixels=0.5 * imch* imcw\n",
    "whitepixels=0\n",
    "for j in range(imch):\n",
    "    for k in range(imcw):\n",
    "        if(imgcpnp[j][k][0] != 0) and (imgcpnp[j][k][1] != 0) and (imgcpnp[j][k][2] != 0):\n",
    "            whitepixels=whitepixels + 1\n",
    "if (whitepixels >= requiredpixels):\n",
    "    colorname = \"white\"\n",
    "else:\n",
    "    imgcrop=cv.resize(imgcrop, (56,56))\n",
    "    imgarray= image.img_to_array(imgcrop)\n",
    "    imgbatch= np.expand_dims(imgarray,axis=0)\n",
    "    imgpreprocess=tf.keras.applications.vgg16.preprocess_input(imgbatch)\n",
    "    pred= firstmodel.predict(imgpreprocess)\n",
    "    predclass= np.argmax(pred)\n",
    "    \n",
    "    if (predclass == 0):\n",
    "        pred2= thirdmodel.predict(imgpreprocess)\n",
    "        pred2= np.argmax(pred2)\n",
    "        if (pred2 ==0 ):\n",
    "            colorname=\"blue\"\n",
    "        elif (pred2 ==1):\n",
    "            colorname= \"green\"\n",
    "        elif (pred2 ==2):\n",
    "            colorname= \"purple\"\n",
    "    elif (predclass == 1):\n",
    "        pred2= secondmodel.predict(imgpreprocess)\n",
    "        pred2=np.argmax(pred2)\n",
    "        if (pred2 ==0 ):\n",
    "            colorname=\"orange\"\n",
    "        elif (pred2 ==1):\n",
    "            colorname=\"red\"\n",
    "        else:\n",
    "            colorname= \"yellow\"\n",
    "    elif (predclass == 2):\n",
    "        pred2= fourthmodel.predict(imgpreprocess)\n",
    "        pred2=np.argmax(pred2)\n",
    "        if (pred2==0):\n",
    "            colorname=\"black\"\n",
    "        else:\n",
    "            colorname=\"grey\""
   ]
  },
  {
   "cell_type": "code",
   "execution_count": 103,
   "metadata": {},
   "outputs": [
    {
     "name": "stdout",
     "output_type": "stream",
     "text": [
      "grey\n"
     ]
    }
   ],
   "source": [
    "print(colorname)"
   ]
  },
  {
   "cell_type": "code",
   "execution_count": null,
   "metadata": {},
   "outputs": [],
   "source": []
  },
  {
   "cell_type": "code",
   "execution_count": 13,
   "metadata": {},
   "outputs": [],
   "source": [
    "path= \"orangeimg1.jpg\"\n",
    "imgcrop= cv.imread(path)\n",
    "imgcrop=cv.resize(imgcrop, (56,56))\n",
    "imgarray= image.img_to_array(imgcrop)\n",
    "imgbatch= np.expand_dims(imgarray,axis=0)\n",
    "imgpreprocess=tf.keras.applications.vgg16.preprocess_input(imgbatch)\n",
    "pred= firstmodel.predict(imgpreprocess)\n",
    "predclass= np.argmax(pred)\n",
    "if (predclass == 0):\n",
    "    pred2= cluster1model.predict(imgpreprocess)\n",
    "    pred2= np.argmax(pred2)\n",
    "    if (pred2==0):\n",
    "        colorname='red'\n",
    "    if( pred2==1):\n",
    "        colorname='brown'\n",
    "    if( pred2==2):\n",
    "        colorname='purple'\n",
    "    if( pred2==3):\n",
    "        colorname='pink'\n",
    "    if (pred2==4):\n",
    "        pred3=blackgreymodel.predict(imgpreprocess)\n",
    "        pred3=np.argmax(pred3)\n",
    "        if(pred3==0):\n",
    "            colorname='black'\n",
    "        else :\n",
    "            colorname='grey'\n",
    "\n",
    "if( predclass==1):\n",
    "    pred2= cluster3model.predict(imgpreprocess)\n",
    "    pred2= np.argmax(pred2)\n",
    "    if( pred2==0):\n",
    "        colorname='purple'\n",
    "    if( pred2==1):\n",
    "        colorname='pink'\n",
    "    if (pred2==2):\n",
    "        pred3=blackgreymodel.predict(imgpreprocess)\n",
    "        pred3=np.argmax(pred3)\n",
    "        if(pred3==0):\n",
    "            colorname='black'\n",
    "        else :\n",
    "            colorname='grey'\n",
    "\n",
    "            \n",
    "if (predclass == 2):\n",
    "    pred2= cluster5model.predict(imgpreprocess)\n",
    "    pred2= np.argmax(pred2)\n",
    "    if (pred2==0):\n",
    "        colorname='yellow'\n",
    "    if( pred2==1):\n",
    "        colorname='orange'\n",
    "    if( pred2==2):\n",
    "        colorname='brown'\n",
    "    if (pred2==3):\n",
    "        pred3=blackgreymodel.predict(imgpreprocess)\n",
    "        pred3=np.argmax(pred3)\n",
    "        if(pred3==0):\n",
    "            colorname='black'\n",
    "        else :\n",
    "            colorname='grey' \n",
    "            \n",
    "            \n",
    "if (predclass == 3):\n",
    "    pred2= cluster2model.predict(imgpreprocess)\n",
    "    pred2= np.argmax(pred2)\n",
    "    if (pred2==0):\n",
    "        colorname='white'\n",
    "    if( pred2==1):\n",
    "        colorname='orange'\n",
    "    if( pred2==2):\n",
    "        colorname='pink'\n",
    "    if (pred2==3):\n",
    "        colorname='blue'\n",
    "    if (pred2==4):\n",
    "        colorname='green'\n",
    "        \n",
    "        \n",
    "if (predclass == 4):\n",
    "    pred2= cluster0model.predict(imgpreprocess)\n",
    "    pred2= np.argmax(pred2)\n",
    "    if (pred2==0):\n",
    "        colorname='green'\n",
    "   \n",
    "    if (pred2==1):\n",
    "        pred3=blackgreymodel.predict(imgpreprocess)\n",
    "        pred3=np.argmax(pred3)\n",
    "        if(pred3==0):\n",
    "            colorname='black'\n",
    "        else :\n",
    "            colorname='grey' \n",
    "                    \n",
    "                \n",
    "if (predclass == 5):\n",
    "    pred2= cluster4model.predict(imgpreprocess)\n",
    "    pred2= np.argmax(pred2)\n",
    "    if (pred2==0):\n",
    "        colorname='blue'\n",
    "    if( pred2==1) :\n",
    "        colorname= 'purple'\n",
    "   \n",
    "    if (pred2==2):\n",
    "        pred3=blackgreymodel.predict(imgpreprocess)\n",
    "        pred3=np.argmax(pred3)\n",
    "        if(pred3==0):\n",
    "            colorname='black'\n",
    "        else :\n",
    "            colorname='grey' \n",
    "                    \n",
    "                \n",
    "                \n",
    "                \n",
    "                \n",
    "                "
   ]
  },
  {
   "cell_type": "code",
   "execution_count": 14,
   "metadata": {},
   "outputs": [
    {
     "data": {
      "text/plain": [
       "'blue'"
      ]
     },
     "execution_count": 14,
     "metadata": {},
     "output_type": "execute_result"
    }
   ],
   "source": [
    "colorname\n"
   ]
  },
  {
   "cell_type": "code",
   "execution_count": 8,
   "metadata": {},
   "outputs": [
    {
     "data": {
      "text/plain": [
       "5"
      ]
     },
     "execution_count": 8,
     "metadata": {},
     "output_type": "execute_result"
    }
   ],
   "source": [
    "predclass"
   ]
  },
  {
   "cell_type": "code",
   "execution_count": 5,
   "metadata": {},
   "outputs": [],
   "source": [
    "path= 'orangeimg1.jpg'\n",
    "imgcrop= cv.imread(path)\n",
    "cv.imshow('image', imgcrop)"
   ]
  },
  {
   "cell_type": "code",
   "execution_count": 6,
   "metadata": {},
   "outputs": [],
   "source": [
    "imgcrop=cv.resize(imgcrop, (56,56))"
   ]
  },
  {
   "cell_type": "code",
   "execution_count": 9,
   "metadata": {},
   "outputs": [
    {
     "data": {
      "text/plain": [
       "array([[3.7228188e-20, 6.1942056e-11, 1.0000000e+00, 3.1936172e-18,\n",
       "        1.2412275e-11]], dtype=float32)"
      ]
     },
     "execution_count": 9,
     "metadata": {},
     "output_type": "execute_result"
    }
   ],
   "source": [
    "cluster1model.predict(imgpreprocess)"
   ]
  },
  {
   "cell_type": "code",
   "execution_count": 10,
   "metadata": {},
   "outputs": [
    {
     "data": {
      "text/plain": [
       "2"
      ]
     },
     "execution_count": 10,
     "metadata": {},
     "output_type": "execute_result"
    }
   ],
   "source": [
    "np.argmax(cluster1model.predict(imgpreprocess))"
   ]
  },
  {
   "cell_type": "code",
   "execution_count": null,
   "metadata": {},
   "outputs": [],
   "source": [
    " "
   ]
  }
 ],
 "metadata": {
  "kernelspec": {
   "display_name": "Python 3",
   "language": "python",
   "name": "python3"
  },
  "language_info": {
   "codemirror_mode": {
    "name": "ipython",
    "version": 3
   },
   "file_extension": ".py",
   "mimetype": "text/x-python",
   "name": "python",
   "nbconvert_exporter": "python",
   "pygments_lexer": "ipython3",
   "version": "3.7.6"
  }
 },
 "nbformat": 4,
 "nbformat_minor": 4
}
